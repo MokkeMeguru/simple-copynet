{
 "cells": [
  {
   "cell_type": "code",
   "execution_count": 50,
   "metadata": {},
   "outputs": [
    {
     "name": "stdout",
     "output_type": "stream",
     "text": [
      "The lab_black extension is already loaded. To reload it, use:\n",
      "  %reload_ext lab_black\n"
     ]
    }
   ],
   "source": [
    "%load_ext lab_black\n",
    "import train\n",
    "import pprint\n",
    "\n",
    "import argparse\n",
    "import os\n",
    "import time\n",
    "import numpy as np\n",
    "\n",
    "import torch\n",
    "from torch import optim\n",
    "from torch.autograd import Variable\n",
    "from torch.utils.data import DataLoader\n",
    "\n",
    "from data.dataset import SequencePairDataset\n",
    "from model.encoder_decoder import EncoderDecoder\n",
    "from evaluate import evaluate\n",
    "from utils import to_np, trim_seqs\n",
    "\n",
    "from tensorboardX import SummaryWriter\n",
    "from tqdm import tqdm\n",
    "from data import parser\n",
    "from data import reader"
   ]
  },
  {
   "cell_type": "code",
   "execution_count": 51,
   "metadata": {},
   "outputs": [
    {
     "name": "stdout",
     "output_type": "stream",
     "text": [
      "[INFO] show sample data\n",
      "\n",
      "[non-styled sentence] -> [styled sentence]\n",
      "['おはよう', 'ござい', 'ます', '。']->['おはよう。']\n",
      "\n"
     ]
    }
   ],
   "source": [
    "model_name = \"sample_model\"\n",
    "data_list = reader.read_files(\n",
    "    \"./st-data/base.csv\", \"./st-data/styled.csv\", parser.get_word_list\n",
    ")\n",
    "print(\"[INFO] show sample data\\n\")\n",
    "print(\"[non-styled sentence] -> [styled sentence]\")\n",
    "print(str(data_list[0][0]) + \"->\" + str(data_list[1][0]) + \"\\n\")"
   ]
  },
  {
   "cell_type": "code",
   "execution_count": 63,
   "metadata": {},
   "outputs": [],
   "source": [
    "parser_ = argparse.ArgumentParser(description=\"Parse training parameters\")\n",
    "parser_.add_argument(\n",
    "    \"--model_name\",\n",
    "    type=str,\n",
    "    default=\"model\",\n",
    "    help=(\n",
    "        \"the name of subdirectory of ./model/ that\"\n",
    "        + \"contains encoder and decoder model files\"\n",
    "    ),\n",
    ")\n",
    "parser_.add_argument(\n",
    "    \"--epochs\", type=int, default=200, help=\"the number of epochs to train\"\n",
    ")\n",
    "parser_.add_argument(\n",
    "    \"--use_cuda\",\n",
    "    action=\"store_true\",\n",
    "    default=\"True\",\n",
    "    help=\"flag indicating that cuda will be used\",\n",
    ")\n",
    "parser_.add_argument(\n",
    "    \"--batch_size\", type=int, default=200, help=\"number of examples in a batch\"\n",
    ")\n",
    "parser_.add_argument(\n",
    "    \"--teacher_forcing_fraction\",\n",
    "    type=float,\n",
    "    default=2.0,\n",
    "    help=\"fraction of batches that will use teacher forcing during training\",\n",
    ")\n",
    "parser_.add_argument(\n",
    "    \"--scheduled_teacher_forcing\",\n",
    "    action=\"store_true\",\n",
    "    default=True,\n",
    "    help=(\n",
    "        \"Linearly decrease the teacher forcing fraction\"\n",
    "        + \" from 1.0 to 0.0 over the specified number of epochs\"\n",
    "    ),\n",
    ")\n",
    "parser_.add_argument(\n",
    "    \"--keep_prob\",\n",
    "    type=float,\n",
    "    default=1.0,\n",
    "    help=\"Probability of keeping an element in the dropout step.\",\n",
    ")\n",
    "parser_.add_argument(\n",
    "    \"--val_size\", type=float, default=0.1, help=\"fraction of data to use for validation\"\n",
    ")\n",
    "parser_.add_argument(\"--lr\", type=float, default=0.0005, help=\"Learning rate.\")\n",
    "parser_.add_argument(\n",
    "    \"--vocab_limit\",\n",
    "    type=int,\n",
    "    default=100,\n",
    "    help=\"When creating a new Language object the vocab\"\n",
    "    \"will be truncated to the most frequently\"\n",
    "    \"occurring words in the training dataset.\",\n",
    ")\n",
    "parser_.add_argument(\n",
    "    \"--hidden_size\",\n",
    "    type=int,\n",
    "    default=8,\n",
    "    help=\"The number of RNN units in the encoder. 2x this \"\n",
    "    \"number of RNN units will be used in the decoder\",\n",
    ")\n",
    "parser_.add_argument(\n",
    "    \"--embedding_size\",\n",
    "    type=int,\n",
    "    default=16,\n",
    "    help=\"Embedding size used in both encoder and decoder\",\n",
    ")\n",
    "parser_.add_argument(\n",
    "    \"--max_length\",\n",
    "    type=int,\n",
    "    default=30,\n",
    "    help=\"Sequences will be padded or truncated to this size.\",\n",
    ")\n",
    "args = parser_.parse_args(\n",
    "    args=[\n",
    "        \"--lr\",\n",
    "        \"0.01\",\n",
    "        \"--model_name\",\n",
    "        \"sample_model\",\n",
    "        \"--epochs\",\n",
    "        \"200\",\n",
    "        \"--batch_size\",\n",
    "        \"100\",\n",
    "    ]\n",
    ")"
   ]
  },
  {
   "cell_type": "code",
   "execution_count": 64,
   "metadata": {},
   "outputs": [],
   "source": [
    "if args.scheduled_teacher_forcing:\n",
    "    schedule = np.arange(1.0, 0.0, -1.0 / args.epochs)\n",
    "else:\n",
    "    schedule = np.ones(args.epochs) * args.teacher_forcing_fraction"
   ]
  },
  {
   "cell_type": "code",
   "execution_count": 65,
   "metadata": {},
   "outputs": [
    {
     "name": "stdout",
     "output_type": "stream",
     "text": [
      "training model_name with use_cuda=sample_model, batch_size=True\n",
      "teacher_forcing_schedule=[1.    0.995 0.99  0.985 0.98  0.975 0.97  0.965 0.96  0.955 0.95  0.945\n",
      " 0.94  0.935 0.93  0.925 0.92  0.915 0.91  0.905 0.9   0.895 0.89  0.885\n",
      " 0.88  0.875 0.87  0.865 0.86  0.855 0.85  0.845 0.84  0.835 0.83  0.825\n",
      " 0.82  0.815 0.81  0.805 0.8   0.795 0.79  0.785 0.78  0.775 0.77  0.765\n",
      " 0.76  0.755 0.75  0.745 0.74  0.735 0.73  0.725 0.72  0.715 0.71  0.705\n",
      " 0.7   0.695 0.69  0.685 0.68  0.675 0.67  0.665 0.66  0.655 0.65  0.645\n",
      " 0.64  0.635 0.63  0.625 0.62  0.615 0.61  0.605 0.6   0.595 0.59  0.585\n",
      " 0.58  0.575 0.57  0.565 0.56  0.555 0.55  0.545 0.54  0.535 0.53  0.525\n",
      " 0.52  0.515 0.51  0.505 0.5   0.495 0.49  0.485 0.48  0.475 0.47  0.465\n",
      " 0.46  0.455 0.45  0.445 0.44  0.435 0.43  0.425 0.42  0.415 0.41  0.405\n",
      " 0.4   0.395 0.39  0.385 0.38  0.375 0.37  0.365 0.36  0.355 0.35  0.345\n",
      " 0.34  0.335 0.33  0.325 0.32  0.315 0.31  0.305 0.3   0.295 0.29  0.285\n",
      " 0.28  0.275 0.27  0.265 0.26  0.255 0.25  0.245 0.24  0.235 0.23  0.225\n",
      " 0.22  0.215 0.21  0.205 0.2   0.195 0.19  0.185 0.18  0.175 0.17  0.165\n",
      " 0.16  0.155 0.15  0.145 0.14  0.135 0.13  0.125 0.12  0.115 0.11  0.105\n",
      " 0.1   0.095 0.09  0.085 0.08  0.075 0.07  0.065 0.06  0.055 0.05  0.045\n",
      " 0.04  0.035 0.03  0.025 0.02  0.015 0.01  0.005]\n",
      "keep_prob=1.0, val_size=0.1, lr=0.01, vocab_limit=100, hidden_size=8, embedding_size=16, max_length=30, seed=14\n",
      "loading encoder and decoder from model_path\n",
      "creating training and validation dataset with saved languages\n",
      "vocab_limit 100\n",
      "epoch 0\n"
     ]
    },
    {
     "name": "stderr",
     "output_type": "stream",
     "text": [
      "100%|███████████████████████████████████████████████████████████████████████| 3/3 [00:01<00:00,  2.33it/s]\n",
      "100%|███████████████████████████████████████████████████████████████████████| 1/1 [00:00<00:00,  8.42it/s]\n"
     ]
    },
    {
     "name": "stdout",
     "output_type": "stream",
     "text": [
      "=> <SOS>。。。。。。。。。。。。。。。。。。。。。。。。。。。。。\n",
      "val loss: 1.3874995592442168\n",
      "----------------------------------------------------------------------------------------------------\n",
      "epoch 1\n"
     ]
    },
    {
     "name": "stderr",
     "output_type": "stream",
     "text": [
      "100%|███████████████████████████████████████████████████████████████████████| 3/3 [00:01<00:00,  2.42it/s]\n",
      "100%|███████████████████████████████████████████████████████████████████████| 1/1 [00:00<00:00,  7.96it/s]\n"
     ]
    },
    {
     "name": "stdout",
     "output_type": "stream",
     "text": [
      "warning: Embedding dir exists, did you set global_step for add_embedding()?\n",
      "=> <SOS>。。。。。。。。。。。。。。。。。。。。。。。。。。。。。\n",
      "val loss: 1.5557423046846197\n",
      "----------------------------------------------------------------------------------------------------\n",
      "epoch 2\n"
     ]
    },
    {
     "name": "stderr",
     "output_type": "stream",
     "text": [
      "100%|███████████████████████████████████████████████████████████████████████| 3/3 [00:01<00:00,  2.39it/s]\n",
      "100%|███████████████████████████████████████████████████████████████████████| 1/1 [00:00<00:00,  8.02it/s]\n"
     ]
    },
    {
     "name": "stdout",
     "output_type": "stream",
     "text": [
      "warning: Embedding dir exists, did you set global_step for add_embedding()?\n",
      "=> <SOS>。。。。。。。。。。。。。。。。。。。。。。。。。。。。。\n",
      "val loss: 1.638896527832716\n",
      "----------------------------------------------------------------------------------------------------\n",
      "epoch 3\n"
     ]
    },
    {
     "name": "stderr",
     "output_type": "stream",
     "text": [
      "100%|███████████████████████████████████████████████████████████████████████| 3/3 [00:01<00:00,  2.66it/s]\n",
      "100%|███████████████████████████████████████████████████████████████████████| 1/1 [00:00<00:00,  7.54it/s]\n"
     ]
    },
    {
     "name": "stdout",
     "output_type": "stream",
     "text": [
      "warning: Embedding dir exists, did you set global_step for add_embedding()?\n",
      "=> <SOS><EOS>\n",
      "val loss: 1.8559433847023024\n",
      "----------------------------------------------------------------------------------------------------\n",
      "epoch 4\n"
     ]
    },
    {
     "name": "stderr",
     "output_type": "stream",
     "text": [
      "100%|███████████████████████████████████████████████████████████████████████| 3/3 [00:00<00:00,  3.28it/s]\n",
      "100%|███████████████████████████████████████████████████████████████████████| 1/1 [00:00<00:00,  6.74it/s]\n"
     ]
    },
    {
     "name": "stdout",
     "output_type": "stream",
     "text": [
      "warning: Embedding dir exists, did you set global_step for add_embedding()?\n",
      "=> <SOS><EOS>\n",
      "val loss: 1.9262478101468092\n",
      "----------------------------------------------------------------------------------------------------\n",
      "epoch 5\n"
     ]
    },
    {
     "name": "stderr",
     "output_type": "stream",
     "text": [
      "100%|███████████████████████████████████████████████████████████████████████| 3/3 [00:00<00:00,  3.23it/s]\n",
      "100%|███████████████████████████████████████████████████████████████████████| 1/1 [00:00<00:00,  8.15it/s]\n"
     ]
    },
    {
     "name": "stdout",
     "output_type": "stream",
     "text": [
      "warning: Embedding dir exists, did you set global_step for add_embedding()?\n",
      "=> <SOS><EOS>\n",
      "val loss: 2.0695023700979953\n",
      "----------------------------------------------------------------------------------------------------\n",
      "epoch 6\n"
     ]
    },
    {
     "name": "stderr",
     "output_type": "stream",
     "text": [
      "100%|███████████████████████████████████████████████████████████████████████| 3/3 [00:01<00:00,  2.89it/s]\n",
      "100%|███████████████████████████████████████████████████████████████████████| 1/1 [00:00<00:00,  7.77it/s]\n"
     ]
    },
    {
     "name": "stdout",
     "output_type": "stream",
     "text": [
      "warning: Embedding dir exists, did you set global_step for add_embedding()?\n",
      "=> <SOS>ござい<EOS>\n",
      "val loss: 2.1528190217252647\n",
      "----------------------------------------------------------------------------------------------------\n",
      "epoch 7\n"
     ]
    },
    {
     "name": "stderr",
     "output_type": "stream",
     "text": [
      "100%|███████████████████████████████████████████████████████████████████████| 3/3 [00:00<00:00,  3.29it/s]\n",
      "100%|███████████████████████████████████████████████████████████████████████| 1/1 [00:00<00:00,  7.71it/s]\n"
     ]
    },
    {
     "name": "stdout",
     "output_type": "stream",
     "text": [
      "warning: Embedding dir exists, did you set global_step for add_embedding()?\n",
      "=> <SOS>ござい<EOS>\n",
      "val loss: 2.305506295065448\n",
      "----------------------------------------------------------------------------------------------------\n",
      "epoch 8\n"
     ]
    },
    {
     "name": "stderr",
     "output_type": "stream",
     "text": [
      "100%|███████████████████████████████████████████████████████████████████████| 3/3 [00:00<00:00,  3.31it/s]\n",
      "100%|███████████████████████████████████████████████████████████████████████| 1/1 [00:00<00:00,  8.42it/s]\n"
     ]
    },
    {
     "name": "stdout",
     "output_type": "stream",
     "text": [
      "warning: Embedding dir exists, did you set global_step for add_embedding()?\n",
      "=> <SOS>ござい<EOS>\n",
      "val loss: 2.434414512113144\n",
      "----------------------------------------------------------------------------------------------------\n",
      "epoch 9\n"
     ]
    },
    {
     "name": "stderr",
     "output_type": "stream",
     "text": [
      "100%|███████████████████████████████████████████████████████████████████████| 3/3 [00:01<00:00,  2.64it/s]\n",
      "100%|███████████████████████████████████████████████████████████████████████| 1/1 [00:00<00:00,  7.32it/s]\n"
     ]
    },
    {
     "name": "stdout",
     "output_type": "stream",
     "text": [
      "warning: Embedding dir exists, did you set global_step for add_embedding()?\n",
      "=> <SOS>ございござい<EOS>\n",
      "val loss: 2.5632893522661826\n",
      "----------------------------------------------------------------------------------------------------\n",
      "epoch 10\n"
     ]
    },
    {
     "name": "stderr",
     "output_type": "stream",
     "text": [
      "100%|███████████████████████████████████████████████████████████████████████| 3/3 [00:01<00:00,  2.44it/s]\n",
      "100%|███████████████████████████████████████████████████████████████████████| 1/1 [00:00<00:00,  7.92it/s]\n"
     ]
    },
    {
     "name": "stdout",
     "output_type": "stream",
     "text": [
      "warning: Embedding dir exists, did you set global_step for add_embedding()?\n",
      "=> <SOS>ございござい<EOS>\n",
      "val loss: 2.7222875396078567\n",
      "----------------------------------------------------------------------------------------------------\n",
      "epoch 11\n"
     ]
    },
    {
     "name": "stderr",
     "output_type": "stream",
     "text": [
      "100%|███████████████████████████████████████████████████████████████████████| 3/3 [00:00<00:00,  3.18it/s]\n",
      "100%|███████████████████████████████████████████████████████████████████████| 1/1 [00:00<00:00,  8.02it/s]\n"
     ]
    },
    {
     "name": "stdout",
     "output_type": "stream",
     "text": [
      "warning: Embedding dir exists, did you set global_step for add_embedding()?\n",
      "=> <SOS>ございござい<EOS>\n",
      "val loss: 2.8632621561089038\n",
      "----------------------------------------------------------------------------------------------------\n",
      "epoch 12\n"
     ]
    },
    {
     "name": "stderr",
     "output_type": "stream",
     "text": [
      "100%|███████████████████████████████████████████████████████████████████████| 3/3 [00:00<00:00,  3.31it/s]\n",
      "100%|███████████████████████████████████████████████████████████████████████| 1/1 [00:00<00:00,  7.01it/s]\n"
     ]
    },
    {
     "name": "stdout",
     "output_type": "stream",
     "text": [
      "warning: Embedding dir exists, did you set global_step for add_embedding()?\n",
      "=> <SOS>ございござい。<EOS>\n",
      "val loss: 2.926096414213682\n",
      "----------------------------------------------------------------------------------------------------\n",
      "epoch 13\n"
     ]
    },
    {
     "name": "stderr",
     "output_type": "stream",
     "text": [
      "100%|███████████████████████████████████████████████████████████████████████| 3/3 [00:01<00:00,  2.98it/s]\n",
      "100%|███████████████████████████████████████████████████████████████████████| 1/1 [00:00<00:00,  8.02it/s]\n"
     ]
    },
    {
     "name": "stdout",
     "output_type": "stream",
     "text": [
      "warning: Embedding dir exists, did you set global_step for add_embedding()?\n",
      "=> <SOS>ございござい。<EOS>\n",
      "val loss: 3.0672649019701406\n",
      "----------------------------------------------------------------------------------------------------\n",
      "epoch 14\n"
     ]
    },
    {
     "name": "stderr",
     "output_type": "stream",
     "text": [
      "100%|███████████████████████████████████████████████████████████████████████| 3/3 [00:00<00:00,  3.29it/s]\n",
      "100%|███████████████████████████████████████████████████████████████████████| 1/1 [00:00<00:00,  7.96it/s]\n"
     ]
    },
    {
     "name": "stdout",
     "output_type": "stream",
     "text": [
      "warning: Embedding dir exists, did you set global_step for add_embedding()?\n",
      "=> <SOS>おはようござい。<EOS>\n",
      "val loss: 3.1570874243428255\n",
      "----------------------------------------------------------------------------------------------------\n",
      "epoch 15\n"
     ]
    },
    {
     "name": "stderr",
     "output_type": "stream",
     "text": [
      "100%|███████████████████████████████████████████████████████████████████████| 3/3 [00:00<00:00,  3.19it/s]\n",
      "100%|███████████████████████████████████████████████████████████████████████| 1/1 [00:00<00:00,  7.43it/s]\n"
     ]
    },
    {
     "name": "stdout",
     "output_type": "stream",
     "text": [
      "warning: Embedding dir exists, did you set global_step for add_embedding()?\n",
      "=> <SOS>おはようござい<UNK>。<EOS>\n",
      "val loss: 3.3350154714018516\n",
      "----------------------------------------------------------------------------------------------------\n",
      "epoch 16\n"
     ]
    },
    {
     "name": "stderr",
     "output_type": "stream",
     "text": [
      "100%|███████████████████████████████████████████████████████████████████████| 3/3 [00:01<00:00,  2.91it/s]\n",
      "100%|███████████████████████████████████████████████████████████████████████| 1/1 [00:00<00:00,  8.46it/s]\n"
     ]
    },
    {
     "name": "stdout",
     "output_type": "stream",
     "text": [
      "warning: Embedding dir exists, did you set global_step for add_embedding()?\n",
      "=> <SOS>おはようござい<UNK>。。<EOS>\n",
      "val loss: 3.374717108921471\n",
      "----------------------------------------------------------------------------------------------------\n",
      "epoch 17\n"
     ]
    },
    {
     "name": "stderr",
     "output_type": "stream",
     "text": [
      "100%|███████████████████████████████████████████████████████████████████████| 3/3 [00:00<00:00,  3.30it/s]\n",
      "100%|███████████████████████████████████████████████████████████████████████| 1/1 [00:00<00:00,  7.96it/s]\n"
     ]
    },
    {
     "name": "stdout",
     "output_type": "stream",
     "text": [
      "warning: Embedding dir exists, did you set global_step for add_embedding()?\n",
      "=> <SOS>おはようござい<UNK>。。<EOS>\n",
      "val loss: 3.4938492994859938\n",
      "----------------------------------------------------------------------------------------------------\n",
      "epoch 18\n"
     ]
    },
    {
     "name": "stderr",
     "output_type": "stream",
     "text": [
      "100%|███████████████████████████████████████████████████████████████████████| 3/3 [00:00<00:00,  3.30it/s]\n",
      "100%|███████████████████████████████████████████████████████████████████████| 1/1 [00:00<00:00,  8.12it/s]\n"
     ]
    },
    {
     "name": "stdout",
     "output_type": "stream",
     "text": [
      "warning: Embedding dir exists, did you set global_step for add_embedding()?\n",
      "=> <SOS>おはようござい<UNK>。。。。<EOS>\n",
      "val loss: 3.6618817655095235\n",
      "----------------------------------------------------------------------------------------------------\n",
      "epoch 19\n"
     ]
    },
    {
     "name": "stderr",
     "output_type": "stream",
     "text": [
      "100%|███████████████████████████████████████████████████████████████████████| 3/3 [00:00<00:00,  3.23it/s]\n",
      "100%|███████████████████████████████████████████████████████████████████████| 1/1 [00:00<00:00,  8.15it/s]\n"
     ]
    },
    {
     "name": "stdout",
     "output_type": "stream",
     "text": [
      "warning: Embedding dir exists, did you set global_step for add_embedding()?\n",
      "=> <SOS>おはようござい<UNK>。。。<EOS>\n",
      "val loss: 3.961878223225402\n",
      "----------------------------------------------------------------------------------------------------\n",
      "epoch 20\n"
     ]
    },
    {
     "name": "stderr",
     "output_type": "stream",
     "text": [
      "100%|███████████████████████████████████████████████████████████████████████| 3/3 [00:01<00:00,  2.71it/s]\n",
      "100%|███████████████████████████████████████████████████████████████████████| 1/1 [00:00<00:00,  8.11it/s]\n"
     ]
    },
    {
     "name": "stdout",
     "output_type": "stream",
     "text": [
      "warning: Embedding dir exists, did you set global_step for add_embedding()?\n",
      "=> <SOS>おはようござい<UNK>。。<EOS>\n",
      "val loss: 4.084162370566687\n",
      "----------------------------------------------------------------------------------------------------\n",
      "epoch 21\n"
     ]
    },
    {
     "name": "stderr",
     "output_type": "stream",
     "text": [
      "100%|███████████████████████████████████████████████████████████████████████| 3/3 [00:00<00:00,  3.21it/s]\n",
      "100%|███████████████████████████████████████████████████████████████████████| 1/1 [00:00<00:00,  7.48it/s]\n"
     ]
    },
    {
     "name": "stdout",
     "output_type": "stream",
     "text": [
      "warning: Embedding dir exists, did you set global_step for add_embedding()?\n",
      "=> <SOS>おはようござい<UNK>。。<EOS>\n",
      "val loss: 4.190319682919862\n",
      "----------------------------------------------------------------------------------------------------\n",
      "epoch 22\n"
     ]
    },
    {
     "name": "stderr",
     "output_type": "stream",
     "text": [
      "100%|███████████████████████████████████████████████████████████████████████| 3/3 [00:00<00:00,  3.35it/s]\n",
      "100%|███████████████████████████████████████████████████████████████████████| 1/1 [00:00<00:00,  7.92it/s]\n"
     ]
    },
    {
     "name": "stdout",
     "output_type": "stream",
     "text": [
      "warning: Embedding dir exists, did you set global_step for add_embedding()?\n",
      "=> <SOS>おはようござい<UNK><UNK>。ねね<EOS>\n",
      "val loss: 4.346567396303052\n",
      "----------------------------------------------------------------------------------------------------\n",
      "epoch 23\n"
     ]
    },
    {
     "name": "stderr",
     "output_type": "stream",
     "text": [
      "100%|███████████████████████████████████████████████████████████████████████| 3/3 [00:01<00:00,  3.06it/s]\n",
      "100%|███████████████████████████████████████████████████████████████████████| 1/1 [00:00<00:00,  8.08it/s]\n"
     ]
    },
    {
     "name": "stdout",
     "output_type": "stream",
     "text": [
      "warning: Embedding dir exists, did you set global_step for add_embedding()?\n",
      "=> <SOS>おはようござい<UNK><UNK>。ねねねねねね<EOS>\n",
      "val loss: 4.486301312492947\n",
      "----------------------------------------------------------------------------------------------------\n",
      "epoch 24\n"
     ]
    },
    {
     "name": "stderr",
     "output_type": "stream",
     "text": [
      "100%|███████████████████████████████████████████████████████████████████████| 3/3 [00:00<00:00,  3.28it/s]\n",
      "100%|███████████████████████████████████████████████████████████████████████| 1/1 [00:00<00:00,  8.64it/s]\n"
     ]
    },
    {
     "name": "stdout",
     "output_type": "stream",
     "text": [
      "warning: Embedding dir exists, did you set global_step for add_embedding()?\n",
      "=> <SOS>おはようござい<UNK><UNK>。ねねねねねねねねねねねねねねねねねねねねねねねね\n",
      "val loss: 4.667263802558608\n",
      "----------------------------------------------------------------------------------------------------\n",
      "epoch 25\n"
     ]
    },
    {
     "name": "stderr",
     "output_type": "stream",
     "text": [
      "100%|███████████████████████████████████████████████████████████████████████| 3/3 [00:00<00:00,  3.27it/s]\n",
      "100%|███████████████████████████████████████████████████████████████████████| 1/1 [00:00<00:00,  7.21it/s]\n"
     ]
    },
    {
     "name": "stdout",
     "output_type": "stream",
     "text": [
      "warning: Embedding dir exists, did you set global_step for add_embedding()?\n",
      "=> <SOS>おはようござい<UNK><UNK>。ねねねねねねねねねねねねねねねねねねねねねねねね\n",
      "val loss: 4.726880371451875\n",
      "----------------------------------------------------------------------------------------------------\n",
      "epoch 26\n"
     ]
    },
    {
     "name": "stderr",
     "output_type": "stream",
     "text": [
      "100%|███████████████████████████████████████████████████████████████████████| 3/3 [00:01<00:00,  2.96it/s]\n",
      "100%|███████████████████████████████████████████████████████████████████████| 1/1 [00:00<00:00,  8.22it/s]\n"
     ]
    },
    {
     "name": "stdout",
     "output_type": "stream",
     "text": [
      "warning: Embedding dir exists, did you set global_step for add_embedding()?\n",
      "=> <SOS>おはようござい<UNK><UNK><UNK>ねねねねねねねねねねねねねねねねねねねねねねねね\n",
      "val loss: 4.977762977116316\n",
      "----------------------------------------------------------------------------------------------------\n",
      "epoch 27\n"
     ]
    },
    {
     "name": "stderr",
     "output_type": "stream",
     "text": [
      "100%|███████████████████████████████████████████████████████████████████████| 3/3 [00:00<00:00,  3.31it/s]\n",
      "100%|███████████████████████████████████████████████████████████████████████| 1/1 [00:00<00:00,  8.28it/s]\n"
     ]
    },
    {
     "name": "stdout",
     "output_type": "stream",
     "text": [
      "warning: Embedding dir exists, did you set global_step for add_embedding()?\n",
      "=> <SOS>おはようござい<UNK><UNK><UNK>ねねねねねねねねねねねねねねねねねねねねねねねね\n",
      "val loss: 5.127807651312385\n",
      "----------------------------------------------------------------------------------------------------\n",
      "epoch 28\n"
     ]
    },
    {
     "name": "stderr",
     "output_type": "stream",
     "text": [
      "100%|███████████████████████████████████████████████████████████████████████| 3/3 [00:00<00:00,  3.31it/s]\n",
      "100%|███████████████████████████████████████████████████████████████████████| 1/1 [00:00<00:00,  8.02it/s]\n"
     ]
    },
    {
     "name": "stdout",
     "output_type": "stream",
     "text": [
      "warning: Embedding dir exists, did you set global_step for add_embedding()?\n",
      "=> <SOS>おはようござい<UNK><UNK><UNK>ねねねねねねねねねねねねねねねねねねねねねねねね\n",
      "val loss: 5.124857738908638\n",
      "----------------------------------------------------------------------------------------------------\n",
      "epoch 29\n"
     ]
    },
    {
     "name": "stderr",
     "output_type": "stream",
     "text": [
      "100%|███████████████████████████████████████████████████████████████████████| 3/3 [00:00<00:00,  3.34it/s]\n",
      "100%|███████████████████████████████████████████████████████████████████████| 1/1 [00:00<00:00,  7.89it/s]\n"
     ]
    },
    {
     "name": "stdout",
     "output_type": "stream",
     "text": [
      "warning: Embedding dir exists, did you set global_step for add_embedding()?\n",
      "=> <SOS>おはようござい<UNK><UNK><UNK>ねねねねねねねねねねねねねねねねねねねねねねねね\n",
      "val loss: 5.261001741048927\n",
      "----------------------------------------------------------------------------------------------------\n",
      "epoch 30\n"
     ]
    },
    {
     "name": "stderr",
     "output_type": "stream",
     "text": [
      "100%|███████████████████████████████████████████████████████████████████████| 3/3 [00:01<00:00,  2.80it/s]\n",
      "100%|███████████████████████████████████████████████████████████████████████| 1/1 [00:00<00:00,  7.89it/s]\n"
     ]
    },
    {
     "name": "stdout",
     "output_type": "stream",
     "text": [
      "warning: Embedding dir exists, did you set global_step for add_embedding()?\n",
      "=> <SOS>おはようござい<UNK><UNK><UNK>ねねねねねねねねねねねねねねねねねねねねねねねね\n",
      "val loss: 5.44771933499335\n",
      "----------------------------------------------------------------------------------------------------\n",
      "epoch 31\n"
     ]
    },
    {
     "name": "stderr",
     "output_type": "stream",
     "text": [
      "100%|███████████████████████████████████████████████████████████████████████| 3/3 [00:00<00:00,  3.38it/s]\n",
      "100%|███████████████████████████████████████████████████████████████████████| 1/1 [00:00<00:00,  8.28it/s]\n"
     ]
    },
    {
     "name": "stdout",
     "output_type": "stream",
     "text": [
      "warning: Embedding dir exists, did you set global_step for add_embedding()?\n",
      "=> <SOS>おはようござい<UNK><UNK><UNK>ねねねねねねねねねねねねねねねねねねねねねねねね\n",
      "val loss: 5.580666976522683\n",
      "----------------------------------------------------------------------------------------------------\n",
      "epoch 32\n"
     ]
    },
    {
     "name": "stderr",
     "output_type": "stream",
     "text": [
      "100%|███████████████████████████████████████████████████████████████████████| 3/3 [00:00<00:00,  3.37it/s]\n",
      "100%|███████████████████████████████████████████████████████████████████████| 1/1 [00:00<00:00,  8.15it/s]\n"
     ]
    },
    {
     "name": "stdout",
     "output_type": "stream",
     "text": [
      "warning: Embedding dir exists, did you set global_step for add_embedding()?\n",
      "=> <SOS>おはようござい<UNK><UNK><UNK>ねねねねねねねねねねねねねねねねねねねねねねねね\n",
      "val loss: 5.6081455645252865\n",
      "----------------------------------------------------------------------------------------------------\n",
      "epoch 33\n"
     ]
    },
    {
     "name": "stderr",
     "output_type": "stream",
     "text": [
      "100%|███████████████████████████████████████████████████████████████████████| 3/3 [00:00<00:00,  3.32it/s]\n",
      "100%|███████████████████████████████████████████████████████████████████████| 1/1 [00:00<00:00,  7.96it/s]\n"
     ]
    },
    {
     "name": "stdout",
     "output_type": "stream",
     "text": [
      "warning: Embedding dir exists, did you set global_step for add_embedding()?\n",
      "=> <SOS>おはよう<UNK><UNK><UNK><UNK>ねねねねねねねねねねねねねねねねねねねねねねねね\n",
      "val loss: 5.838857923019209\n",
      "----------------------------------------------------------------------------------------------------\n",
      "epoch 34\n"
     ]
    },
    {
     "name": "stderr",
     "output_type": "stream",
     "text": [
      "100%|███████████████████████████████████████████████████████████████████████| 3/3 [00:00<00:00,  3.11it/s]\n",
      "100%|███████████████████████████████████████████████████████████████████████| 1/1 [00:00<00:00,  8.21it/s]\n"
     ]
    },
    {
     "name": "stdout",
     "output_type": "stream",
     "text": [
      "warning: Embedding dir exists, did you set global_step for add_embedding()?\n",
      "=> <SOS>おはよう<UNK><UNK><UNK><UNK>ねねねねねねねねねねねねねねねねねねねねねねねね\n",
      "val loss: 5.913762234073041\n",
      "----------------------------------------------------------------------------------------------------\n",
      "epoch 35\n"
     ]
    },
    {
     "name": "stderr",
     "output_type": "stream",
     "text": [
      "100%|███████████████████████████████████████████████████████████████████████| 3/3 [00:00<00:00,  3.27it/s]\n",
      "100%|███████████████████████████████████████████████████████████████████████| 1/1 [00:00<00:00,  7.01it/s]\n"
     ]
    },
    {
     "name": "stdout",
     "output_type": "stream",
     "text": [
      "warning: Embedding dir exists, did you set global_step for add_embedding()?\n",
      "=> <SOS>おはよう<UNK><UNK><UNK><UNK>ねねねねねねねねねねねねねねねねねねねねねねねね\n",
      "val loss: 5.6527896600278\n",
      "----------------------------------------------------------------------------------------------------\n",
      "epoch 36\n"
     ]
    },
    {
     "name": "stderr",
     "output_type": "stream",
     "text": [
      "100%|███████████████████████████████████████████████████████████████████████| 3/3 [00:00<00:00,  3.25it/s]\n",
      "100%|███████████████████████████████████████████████████████████████████████| 1/1 [00:00<00:00,  7.71it/s]\n"
     ]
    },
    {
     "name": "stdout",
     "output_type": "stream",
     "text": [
      "warning: Embedding dir exists, did you set global_step for add_embedding()?\n",
      "=> <SOS>おはよう<UNK><UNK><UNK><UNK>ねねねねねねねねねねねねねねねねねねねねねねねね\n",
      "val loss: 5.833296075951856\n",
      "----------------------------------------------------------------------------------------------------\n",
      "epoch 37\n"
     ]
    },
    {
     "name": "stderr",
     "output_type": "stream",
     "text": [
      "100%|███████████████████████████████████████████████████████████████████████| 3/3 [00:00<00:00,  3.20it/s]\n",
      "100%|███████████████████████████████████████████████████████████████████████| 1/1 [00:00<00:00,  8.28it/s]\n"
     ]
    },
    {
     "name": "stdout",
     "output_type": "stream",
     "text": [
      "warning: Embedding dir exists, did you set global_step for add_embedding()?\n",
      "=> <SOS>おはよう<UNK><UNK><UNK><UNK>ねねねねねねねねねねねねねねねねねねねねねねねね\n",
      "val loss: 6.267881712454989\n",
      "----------------------------------------------------------------------------------------------------\n",
      "epoch 38\n"
     ]
    },
    {
     "name": "stderr",
     "output_type": "stream",
     "text": [
      "100%|███████████████████████████████████████████████████████████████████████| 3/3 [00:00<00:00,  3.28it/s]\n",
      "100%|███████████████████████████████████████████████████████████████████████| 1/1 [00:00<00:00,  8.50it/s]\n"
     ]
    },
    {
     "name": "stdout",
     "output_type": "stream",
     "text": [
      "warning: Embedding dir exists, did you set global_step for add_embedding()?\n",
      "=> <SOS>おはよう<UNK><UNK><UNK><UNK>ねねねねねねねねねねねねねねねねねねねねねねねね\n",
      "val loss: 6.392055209373547\n",
      "----------------------------------------------------------------------------------------------------\n",
      "epoch 39\n"
     ]
    },
    {
     "name": "stderr",
     "output_type": "stream",
     "text": [
      "100%|███████████████████████████████████████████████████████████████████████| 3/3 [00:00<00:00,  3.29it/s]\n",
      "100%|███████████████████████████████████████████████████████████████████████| 1/1 [00:00<00:00,  8.13it/s]\n"
     ]
    },
    {
     "name": "stdout",
     "output_type": "stream",
     "text": [
      "warning: Embedding dir exists, did you set global_step for add_embedding()?\n",
      "=> <SOS>おはよう<UNK><UNK><UNK><UNK>ねねねねねねねねねねねねねねねねねねねね<SOS>おはようおはよう<UNK>\n",
      "val loss: 6.052352945547008\n",
      "----------------------------------------------------------------------------------------------------\n",
      "epoch 40\n"
     ]
    },
    {
     "name": "stderr",
     "output_type": "stream",
     "text": [
      "100%|███████████████████████████████████████████████████████████████████████| 3/3 [00:00<00:00,  3.29it/s]\n",
      "100%|███████████████████████████████████████████████████████████████████████| 1/1 [00:00<00:00,  8.35it/s]\n"
     ]
    },
    {
     "name": "stdout",
     "output_type": "stream",
     "text": [
      "warning: Embedding dir exists, did you set global_step for add_embedding()?\n",
      "=> <SOS>おはよう<UNK><UNK><UNK><UNK>ねねねねねねねねねねねねねねねねねねねねねねねね\n",
      "val loss: 5.957833821652152\n",
      "----------------------------------------------------------------------------------------------------\n",
      "epoch 41\n"
     ]
    },
    {
     "name": "stderr",
     "output_type": "stream",
     "text": [
      "100%|███████████████████████████████████████████████████████████████████████| 3/3 [00:00<00:00,  3.29it/s]\n",
      "100%|███████████████████████████████████████████████████████████████████████| 1/1 [00:00<00:00,  8.67it/s]\n"
     ]
    },
    {
     "name": "stdout",
     "output_type": "stream",
     "text": [
      "warning: Embedding dir exists, did you set global_step for add_embedding()?\n",
      "=> <SOS>おはよう<UNK><UNK><UNK><UNK>ねねねねねねねねねねねねねねねねねねねねねねねね\n",
      "val loss: 6.284737579285109\n",
      "----------------------------------------------------------------------------------------------------\n",
      "epoch 42\n"
     ]
    },
    {
     "name": "stderr",
     "output_type": "stream",
     "text": [
      "100%|███████████████████████████████████████████████████████████████████████| 3/3 [00:00<00:00,  3.27it/s]\n",
      "100%|███████████████████████████████████████████████████████████████████████| 1/1 [00:00<00:00,  7.53it/s]\n"
     ]
    },
    {
     "name": "stdout",
     "output_type": "stream",
     "text": [
      "warning: Embedding dir exists, did you set global_step for add_embedding()?\n",
      "=> <SOS>おはよう<UNK><UNK><UNK><UNK>ねねねねねねねねねねねねねねねねねねねねねねねね\n",
      "val loss: 6.1775143279867555\n",
      "----------------------------------------------------------------------------------------------------\n",
      "epoch 43\n"
     ]
    },
    {
     "name": "stderr",
     "output_type": "stream",
     "text": [
      "100%|███████████████████████████████████████████████████████████████████████| 3/3 [00:00<00:00,  3.23it/s]\n",
      "100%|███████████████████████████████████████████████████████████████████████| 1/1 [00:00<00:00,  8.35it/s]\n"
     ]
    },
    {
     "name": "stdout",
     "output_type": "stream",
     "text": [
      "warning: Embedding dir exists, did you set global_step for add_embedding()?\n",
      "=> <SOS>おはよう<UNK><UNK><UNK><UNK>ねねねねねねねねねねねねねねねねねねねねねねねね\n",
      "val loss: 6.658962002641861\n",
      "----------------------------------------------------------------------------------------------------\n",
      "epoch 44\n"
     ]
    },
    {
     "name": "stderr",
     "output_type": "stream",
     "text": [
      "100%|███████████████████████████████████████████████████████████████████████| 3/3 [00:00<00:00,  3.30it/s]\n",
      "100%|███████████████████████████████████████████████████████████████████████| 1/1 [00:00<00:00,  8.15it/s]\n"
     ]
    },
    {
     "name": "stdout",
     "output_type": "stream",
     "text": [
      "warning: Embedding dir exists, did you set global_step for add_embedding()?\n",
      "=> <SOS>おはよう<UNK><UNK><UNK><UNK>ねねねねねねねねねねねねねねねねねねねねねねねね\n",
      "val loss: 6.763519417035184\n",
      "----------------------------------------------------------------------------------------------------\n",
      "epoch 45\n"
     ]
    },
    {
     "name": "stderr",
     "output_type": "stream",
     "text": [
      "100%|███████████████████████████████████████████████████████████████████████| 3/3 [00:00<00:00,  3.35it/s]\n",
      "100%|███████████████████████████████████████████████████████████████████████| 1/1 [00:00<00:00,  8.02it/s]\n"
     ]
    },
    {
     "name": "stdout",
     "output_type": "stream",
     "text": [
      "warning: Embedding dir exists, did you set global_step for add_embedding()?\n",
      "=> <SOS>おはよう<UNK><UNK><UNK><UNK>ねねねねねねねねねねねねねねねねねねねねねねねね\n",
      "val loss: 7.048490726558782\n",
      "----------------------------------------------------------------------------------------------------\n",
      "epoch 46\n"
     ]
    },
    {
     "name": "stderr",
     "output_type": "stream",
     "text": [
      "100%|███████████████████████████████████████████████████████████████████████| 3/3 [00:00<00:00,  3.22it/s]\n",
      "100%|███████████████████████████████████████████████████████████████████████| 1/1 [00:00<00:00,  7.77it/s]\n"
     ]
    },
    {
     "name": "stdout",
     "output_type": "stream",
     "text": [
      "warning: Embedding dir exists, did you set global_step for add_embedding()?\n",
      "=> <SOS>おはよう<UNK><UNK><UNK><UNK>ねねねねねねねねねねねねねねねねねねねねねねねね\n",
      "val loss: 6.5604537775724605\n",
      "----------------------------------------------------------------------------------------------------\n",
      "epoch 47\n"
     ]
    },
    {
     "name": "stderr",
     "output_type": "stream",
     "text": [
      "100%|███████████████████████████████████████████████████████████████████████| 3/3 [00:00<00:00,  3.30it/s]\n",
      "100%|███████████████████████████████████████████████████████████████████████| 1/1 [00:00<00:00,  8.17it/s]\n"
     ]
    },
    {
     "name": "stdout",
     "output_type": "stream",
     "text": [
      "warning: Embedding dir exists, did you set global_step for add_embedding()?\n",
      "=> <SOS>おはよう<UNK><UNK><UNK><UNK>ねねねねねねねねねねねねねねねねねねねねねねねね\n",
      "val loss: 7.173028226364778\n",
      "----------------------------------------------------------------------------------------------------\n",
      "epoch 48\n"
     ]
    },
    {
     "name": "stderr",
     "output_type": "stream",
     "text": [
      "100%|███████████████████████████████████████████████████████████████████████| 3/3 [00:00<00:00,  3.36it/s]\n",
      "100%|███████████████████████████████████████████████████████████████████████| 1/1 [00:00<00:00,  8.15it/s]\n"
     ]
    },
    {
     "name": "stdout",
     "output_type": "stream",
     "text": [
      "warning: Embedding dir exists, did you set global_step for add_embedding()?\n",
      "=> <SOS>おはよう<UNK><UNK><UNK><UNK>ねねねねねねねねねねねねねねねねねねねねねねねね\n",
      "val loss: 6.523863749253397\n",
      "----------------------------------------------------------------------------------------------------\n",
      "epoch 49\n"
     ]
    },
    {
     "name": "stderr",
     "output_type": "stream",
     "text": [
      "100%|███████████████████████████████████████████████████████████████████████| 3/3 [00:00<00:00,  3.28it/s]\n",
      "100%|███████████████████████████████████████████████████████████████████████| 1/1 [00:00<00:00,  8.55it/s]\n"
     ]
    },
    {
     "name": "stdout",
     "output_type": "stream",
     "text": [
      "warning: Embedding dir exists, did you set global_step for add_embedding()?\n",
      "=> <SOS>おはよう<UNK><UNK><UNK><UNK>ねねねねねねねねね<SOS><SOS>おはよう<UNK><UNK><UNK>ねねねねねねねねね\n",
      "val loss: 7.207933546404273\n",
      "----------------------------------------------------------------------------------------------------\n",
      "epoch 50\n"
     ]
    },
    {
     "name": "stderr",
     "output_type": "stream",
     "text": [
      "100%|███████████████████████████████████████████████████████████████████████| 3/3 [00:00<00:00,  3.17it/s]\n",
      "100%|███████████████████████████████████████████████████████████████████████| 1/1 [00:00<00:00,  7.71it/s]\n"
     ]
    },
    {
     "name": "stdout",
     "output_type": "stream",
     "text": [
      "warning: Embedding dir exists, did you set global_step for add_embedding()?\n",
      "=> <SOS>おはよう<UNK><UNK><UNK><UNK>ねねねねねねねねねねねねねねねねねねねねねね<SOS>おはよう\n",
      "val loss: 7.5510105774503025\n",
      "----------------------------------------------------------------------------------------------------\n",
      "epoch 51\n"
     ]
    },
    {
     "name": "stderr",
     "output_type": "stream",
     "text": [
      "100%|███████████████████████████████████████████████████████████████████████| 3/3 [00:00<00:00,  3.32it/s]\n",
      "100%|███████████████████████████████████████████████████████████████████████| 1/1 [00:00<00:00,  8.74it/s]\n"
     ]
    },
    {
     "name": "stdout",
     "output_type": "stream",
     "text": [
      "warning: Embedding dir exists, did you set global_step for add_embedding()?\n",
      "=> <SOS>おはよう<UNK><UNK><UNK><UNK>ねねねねねねねねねねねねねねねねねねねねねねねね\n",
      "val loss: 6.594656865245936\n",
      "----------------------------------------------------------------------------------------------------\n",
      "epoch 52\n"
     ]
    },
    {
     "name": "stderr",
     "output_type": "stream",
     "text": [
      "100%|███████████████████████████████████████████████████████████████████████| 3/3 [00:00<00:00,  3.24it/s]\n",
      "100%|███████████████████████████████████████████████████████████████████████| 1/1 [00:00<00:00,  7.77it/s]\n"
     ]
    },
    {
     "name": "stdout",
     "output_type": "stream",
     "text": [
      "warning: Embedding dir exists, did you set global_step for add_embedding()?\n",
      "=> <SOS>おはよう<UNK><UNK><UNK><UNK>ねねねねねねねねねねね<SOS>おはよう<UNK><UNK><UNK>ねねねねねねねね\n",
      "val loss: 7.539249469647343\n",
      "----------------------------------------------------------------------------------------------------\n",
      "epoch 53\n"
     ]
    },
    {
     "name": "stderr",
     "output_type": "stream",
     "text": [
      "100%|███████████████████████████████████████████████████████████████████████| 3/3 [00:00<00:00,  3.34it/s]\n",
      "100%|███████████████████████████████████████████████████████████████████████| 1/1 [00:00<00:00,  7.83it/s]\n"
     ]
    },
    {
     "name": "stdout",
     "output_type": "stream",
     "text": [
      "warning: Embedding dir exists, did you set global_step for add_embedding()?\n",
      "=> <SOS>おはよう<UNK><UNK><UNK><UNK>ねねねねねねねねねねねねねねねねねねねねねねねね\n",
      "val loss: 6.6586136172524295\n",
      "----------------------------------------------------------------------------------------------------\n",
      "epoch 54\n"
     ]
    },
    {
     "name": "stderr",
     "output_type": "stream",
     "text": [
      "100%|███████████████████████████████████████████████████████████████████████| 3/3 [00:00<00:00,  3.37it/s]\n",
      "100%|███████████████████████████████████████████████████████████████████████| 1/1 [00:00<00:00,  8.42it/s]\n"
     ]
    },
    {
     "name": "stdout",
     "output_type": "stream",
     "text": [
      "warning: Embedding dir exists, did you set global_step for add_embedding()?\n",
      "=> <SOS>おはよう<UNK><UNK><UNK><UNK>ねねね<SOS>おはよう<UNK><UNK><UNK>ねねね<SOS>おはよう<UNK><UNK><UNK>ねねね<SOS>おはよう<UNK><UNK><UNK>\n",
      "val loss: 7.720828063296749\n",
      "----------------------------------------------------------------------------------------------------\n",
      "epoch 55\n"
     ]
    },
    {
     "name": "stderr",
     "output_type": "stream",
     "text": [
      "100%|███████████████████████████████████████████████████████████████████████| 3/3 [00:00<00:00,  3.27it/s]\n",
      "100%|███████████████████████████████████████████████████████████████████████| 1/1 [00:00<00:00,  8.22it/s]\n"
     ]
    },
    {
     "name": "stdout",
     "output_type": "stream",
     "text": [
      "warning: Embedding dir exists, did you set global_step for add_embedding()?\n",
      "=> <SOS>おはよう<UNK><UNK><UNK><UNK>ねねねねねねね<SOS>おはよう<UNK><UNK><UNK>ねねねねねねね<SOS>おはよう<UNK><UNK><UNK>\n",
      "val loss: 7.093733810188129\n",
      "----------------------------------------------------------------------------------------------------\n",
      "epoch 56\n"
     ]
    },
    {
     "name": "stderr",
     "output_type": "stream",
     "text": [
      "100%|███████████████████████████████████████████████████████████████████████| 3/3 [00:00<00:00,  3.34it/s]\n",
      "100%|███████████████████████████████████████████████████████████████████████| 1/1 [00:00<00:00,  7.86it/s]\n"
     ]
    },
    {
     "name": "stdout",
     "output_type": "stream",
     "text": [
      "warning: Embedding dir exists, did you set global_step for add_embedding()?\n",
      "=> <SOS>おはよう<UNK><UNK><UNK><UNK>ねねね<SOS>おはよう<UNK><UNK><UNK>ねねね<SOS>おはよう<UNK><UNK><UNK>ねねね<SOS>おはよう<UNK><UNK><UNK>\n",
      "val loss: 8.220650504580732\n",
      "----------------------------------------------------------------------------------------------------\n",
      "epoch 57\n"
     ]
    },
    {
     "name": "stderr",
     "output_type": "stream",
     "text": [
      "100%|███████████████████████████████████████████████████████████████████████| 3/3 [00:00<00:00,  3.27it/s]\n",
      "100%|███████████████████████████████████████████████████████████████████████| 1/1 [00:00<00:00,  8.32it/s]\n"
     ]
    },
    {
     "name": "stdout",
     "output_type": "stream",
     "text": [
      "warning: Embedding dir exists, did you set global_step for add_embedding()?\n",
      "=> <SOS>おはよう<UNK><UNK><UNK><UNK>ねねね<SOS>おはよう<UNK><UNK><UNK>ねねね<SOS>おはよう<UNK><UNK><UNK>ねねね<SOS>おはよう<UNK><UNK><UNK>\n",
      "val loss: 7.97137424563091\n",
      "----------------------------------------------------------------------------------------------------\n",
      "epoch 58\n"
     ]
    },
    {
     "name": "stderr",
     "output_type": "stream",
     "text": [
      "100%|███████████████████████████████████████████████████████████████████████| 3/3 [00:00<00:00,  3.10it/s]\n",
      "100%|███████████████████████████████████████████████████████████████████████| 1/1 [00:00<00:00,  8.57it/s]\n"
     ]
    },
    {
     "name": "stdout",
     "output_type": "stream",
     "text": [
      "warning: Embedding dir exists, did you set global_step for add_embedding()?\n",
      "=> <SOS>おはよう<UNK><UNK><UNK><UNK>ねねね<SOS><SOS>おはよう<UNK><UNK><UNK>ねねね<SOS><SOS>おはよう<UNK><UNK><UNK>ねねね<SOS><SOS>おはよう\n",
      "val loss: 8.35317420421356\n",
      "----------------------------------------------------------------------------------------------------\n",
      "epoch 59\n"
     ]
    },
    {
     "name": "stderr",
     "output_type": "stream",
     "text": [
      "100%|███████████████████████████████████████████████████████████████████████| 3/3 [00:00<00:00,  3.29it/s]\n",
      "100%|███████████████████████████████████████████████████████████████████████| 1/1 [00:00<00:00,  8.22it/s]\n"
     ]
    },
    {
     "name": "stdout",
     "output_type": "stream",
     "text": [
      "warning: Embedding dir exists, did you set global_step for add_embedding()?\n",
      "=> <SOS>おはよう<UNK><UNK><UNK><UNK>ねねね<SOS>おはよう<UNK><UNK><UNK>ねねよねねね<SOS>おはよう<UNK><UNK><UNK>ねねよねね\n",
      "val loss: 8.671391289745705\n",
      "----------------------------------------------------------------------------------------------------\n",
      "epoch 60\n"
     ]
    },
    {
     "name": "stderr",
     "output_type": "stream",
     "text": [
      "100%|███████████████████████████████████████████████████████████████████████| 3/3 [00:00<00:00,  3.28it/s]\n",
      "100%|███████████████████████████████████████████████████████████████████████| 1/1 [00:00<00:00,  7.96it/s]\n"
     ]
    },
    {
     "name": "stdout",
     "output_type": "stream",
     "text": [
      "warning: Embedding dir exists, did you set global_step for add_embedding()?\n",
      "=> <SOS>そう<UNK><UNK><UNK><UNK>ねね<SOS>おはよう<UNK><UNK><UNK>ねね<SOS>おはよう<UNK><UNK><UNK>ねね<SOS>おはよう<UNK><UNK><UNK>ねね<SOS>\n",
      "val loss: 8.234752080918117\n",
      "----------------------------------------------------------------------------------------------------\n",
      "epoch 61\n"
     ]
    },
    {
     "name": "stderr",
     "output_type": "stream",
     "text": [
      "100%|███████████████████████████████████████████████████████████████████████| 3/3 [00:00<00:00,  3.13it/s]\n",
      "100%|███████████████████████████████████████████████████████████████████████| 1/1 [00:00<00:00,  8.57it/s]\n"
     ]
    },
    {
     "name": "stdout",
     "output_type": "stream",
     "text": [
      "warning: Embedding dir exists, did you set global_step for add_embedding()?\n",
      "=> <SOS>そう<UNK><UNK><UNK>ねねね<SOS>おはよう<UNK><UNK><UNK>ねだねねね<SOS>おはよう<UNK><UNK><UNK>ねだねねね<SOS>おはよう\n",
      "val loss: 9.285620294540742\n",
      "----------------------------------------------------------------------------------------------------\n",
      "epoch 62\n"
     ]
    },
    {
     "name": "stderr",
     "output_type": "stream",
     "text": [
      "100%|███████████████████████████████████████████████████████████████████████| 3/3 [00:00<00:00,  3.30it/s]\n",
      "100%|███████████████████████████████████████████████████████████████████████| 1/1 [00:00<00:00,  6.91it/s]\n"
     ]
    },
    {
     "name": "stdout",
     "output_type": "stream",
     "text": [
      "warning: Embedding dir exists, did you set global_step for add_embedding()?\n",
      "=> <SOS>そう<UNK><UNK><UNK>ねだねねね<SOS>おはよう<UNK><UNK><UNK>だねねよねねね<SOS>おはよう<UNK><UNK><UNK>だねね\n",
      "val loss: 9.262032754617817\n",
      "----------------------------------------------------------------------------------------------------\n",
      "epoch 63\n"
     ]
    },
    {
     "name": "stderr",
     "output_type": "stream",
     "text": [
      "100%|███████████████████████████████████████████████████████████████████████| 3/3 [00:00<00:00,  3.23it/s]\n",
      "100%|███████████████████████████████████████████████████████████████████████| 1/1 [00:00<00:00,  7.16it/s]\n"
     ]
    },
    {
     "name": "stdout",
     "output_type": "stream",
     "text": [
      "warning: Embedding dir exists, did you set global_step for add_embedding()?\n",
      "=> <SOS>おはよう<UNK><UNK><UNK><UNK>ねねね<SOS>おはよう<UNK><UNK>ねだねねよねねね<SOS>おはよう<UNK><UNK><UNK>ねねよね\n",
      "val loss: 9.28801288506404\n",
      "----------------------------------------------------------------------------------------------------\n",
      "epoch 64\n"
     ]
    },
    {
     "name": "stderr",
     "output_type": "stream",
     "text": [
      "100%|███████████████████████████████████████████████████████████████████████| 3/3 [00:00<00:00,  3.44it/s]\n",
      "100%|███████████████████████████████████████████████████████████████████████| 1/1 [00:00<00:00,  8.22it/s]\n"
     ]
    },
    {
     "name": "stdout",
     "output_type": "stream",
     "text": [
      "warning: Embedding dir exists, did you set global_step for add_embedding()?\n",
      "=> <SOS>おはよう<UNK><UNK><UNK><UNK>ねねよねね<SOS>おはよう<UNK><UNK><UNK>ねねよねねよねね<SOS>おはよう<UNK><UNK><UNK>ね\n",
      "val loss: 9.85337639302723\n",
      "----------------------------------------------------------------------------------------------------\n",
      "epoch 65\n"
     ]
    },
    {
     "name": "stderr",
     "output_type": "stream",
     "text": [
      "100%|███████████████████████████████████████████████████████████████████████| 3/3 [00:00<00:00,  3.34it/s]\n",
      "100%|███████████████████████████████████████████████████████████████████████| 1/1 [00:00<00:00,  8.35it/s]\n"
     ]
    },
    {
     "name": "stdout",
     "output_type": "stream",
     "text": [
      "warning: Embedding dir exists, did you set global_step for add_embedding()?\n",
      "=> <SOS>おはよう<UNK><UNK><UNK><UNK>ねねよねね<SOS>おはよう<UNK><UNK><UNK>ねねよねねよねね<SOS>おはよう<UNK><UNK><UNK>ね\n",
      "val loss: 9.889336642229297\n",
      "----------------------------------------------------------------------------------------------------\n",
      "epoch 66\n"
     ]
    },
    {
     "name": "stderr",
     "output_type": "stream",
     "text": [
      "100%|███████████████████████████████████████████████████████████████████████| 3/3 [00:00<00:00,  3.32it/s]\n",
      "100%|███████████████████████████████████████████████████████████████████████| 1/1 [00:00<00:00,  8.57it/s]\n"
     ]
    },
    {
     "name": "stdout",
     "output_type": "stream",
     "text": [
      "warning: Embedding dir exists, did you set global_step for add_embedding()?\n",
      "=> <SOS>おはよう<UNK><UNK><UNK><UNK>ねねよ<SOS>おはよう<UNK><UNK>ねねよねよねね<SOS><SOS>おはよう<UNK><UNK><UNK>ねねよ<SOS>\n",
      "val loss: 9.973177829796185\n",
      "----------------------------------------------------------------------------------------------------\n",
      "epoch 67\n"
     ]
    },
    {
     "name": "stderr",
     "output_type": "stream",
     "text": [
      "100%|███████████████████████████████████████████████████████████████████████| 3/3 [00:00<00:00,  3.32it/s]\n",
      "100%|███████████████████████████████████████████████████████████████████████| 1/1 [00:00<00:00,  7.54it/s]\n"
     ]
    },
    {
     "name": "stdout",
     "output_type": "stream",
     "text": [
      "warning: Embedding dir exists, did you set global_step for add_embedding()?\n",
      "=> <SOS>おはよう<UNK><UNK><UNK><UNK>ねねよ<SOS>おはよう<UNK><UNK>ねねよよねよねよ<SOS><SOS>おはよう<UNK><UNK><UNK>ねねよ\n",
      "val loss: 9.706352465580276\n",
      "----------------------------------------------------------------------------------------------------\n",
      "epoch 68\n"
     ]
    },
    {
     "name": "stderr",
     "output_type": "stream",
     "text": [
      "100%|███████████████████████████████████████████████████████████████████████| 3/3 [00:00<00:00,  3.26it/s]\n",
      "100%|███████████████████████████████████████████████████████████████████████| 1/1 [00:00<00:00,  8.46it/s]\n"
     ]
    },
    {
     "name": "stdout",
     "output_type": "stream",
     "text": [
      "warning: Embedding dir exists, did you set global_step for add_embedding()?\n",
      "=> <SOS>そう<UNK><UNK><UNK>ねねよ<SOS><SOS>おはよう<UNK><UNK><UNK>ねねよ<SOS><SOS>おはよう<UNK><UNK><UNK>ねねよ<SOS><SOS>おはよう<UNK>\n",
      "val loss: 10.761135235227334\n",
      "----------------------------------------------------------------------------------------------------\n",
      "epoch 69\n"
     ]
    },
    {
     "name": "stderr",
     "output_type": "stream",
     "text": [
      "100%|███████████████████████████████████████████████████████████████████████| 3/3 [00:00<00:00,  3.32it/s]\n",
      "100%|███████████████████████████████████████████████████████████████████████| 1/1 [00:00<00:00,  7.83it/s]\n"
     ]
    },
    {
     "name": "stdout",
     "output_type": "stream",
     "text": [
      "warning: Embedding dir exists, did you set global_step for add_embedding()?\n",
      "=> <SOS>そう<UNK><UNK><UNK>ねね<SOS><SOS>おはよう<UNK><UNK><UNK>ねよ<SOS><SOS>おはよう<UNK><UNK><UNK>ねよ<SOS><SOS>おはよう<UNK><UNK><UNK>ね\n",
      "val loss: 10.710549683813408\n",
      "----------------------------------------------------------------------------------------------------\n",
      "epoch 70\n"
     ]
    },
    {
     "name": "stderr",
     "output_type": "stream",
     "text": [
      "100%|███████████████████████████████████████████████████████████████████████| 3/3 [00:00<00:00,  3.25it/s]\n",
      "100%|███████████████████████████████████████████████████████████████████████| 1/1 [00:00<00:00,  7.84it/s]\n"
     ]
    },
    {
     "name": "stdout",
     "output_type": "stream",
     "text": [
      "warning: Embedding dir exists, did you set global_step for add_embedding()?\n",
      "=> <SOS>そう<UNK><UNK><UNK>ねだねよ<SOS>おはよう<UNK><UNK>ねだねよ<SOS>おはよう<UNK><UNK>ねだねよ<SOS>おはよう<UNK><UNK>ね\n",
      "val loss: 10.228890579080593\n",
      "----------------------------------------------------------------------------------------------------\n",
      "epoch 71\n"
     ]
    },
    {
     "name": "stderr",
     "output_type": "stream",
     "text": [
      "100%|███████████████████████████████████████████████████████████████████████| 3/3 [00:00<00:00,  3.20it/s]\n",
      "100%|███████████████████████████████████████████████████████████████████████| 1/1 [00:00<00:00,  8.02it/s]\n"
     ]
    },
    {
     "name": "stdout",
     "output_type": "stream",
     "text": [
      "warning: Embedding dir exists, did you set global_step for add_embedding()?\n",
      "=> <SOS>そう<UNK><UNK><UNK>ねだねよ<SOS>おはよう<UNK><UNK>ねだねよ<SOS>おはよう<UNK><UNK>ねだねよ<SOS>おはよう<UNK><UNK>ね\n",
      "val loss: 11.080636625028854\n",
      "----------------------------------------------------------------------------------------------------\n",
      "epoch 72\n"
     ]
    },
    {
     "name": "stderr",
     "output_type": "stream",
     "text": [
      "100%|███████████████████████████████████████████████████████████████████████| 3/3 [00:00<00:00,  3.30it/s]\n",
      "100%|███████████████████████████████████████████████████████████████████████| 1/1 [00:00<00:00,  8.28it/s]\n"
     ]
    },
    {
     "name": "stdout",
     "output_type": "stream",
     "text": [
      "warning: Embedding dir exists, did you set global_step for add_embedding()?\n",
      "=> <SOS>そう<UNK><UNK><UNK>ねだねよ<SOS>おはよう<UNK><UNK>ねだねよ<SOS>おはよう<UNK><UNK>ねだねよ<SOS>おはよう<UNK><UNK>ね\n",
      "val loss: 10.776669798574828\n",
      "----------------------------------------------------------------------------------------------------\n",
      "epoch 73\n"
     ]
    },
    {
     "name": "stderr",
     "output_type": "stream",
     "text": [
      "100%|███████████████████████████████████████████████████████████████████████| 3/3 [00:00<00:00,  3.18it/s]\n",
      "100%|███████████████████████████████████████████████████████████████████████| 1/1 [00:00<00:00,  7.86it/s]\n"
     ]
    },
    {
     "name": "stdout",
     "output_type": "stream",
     "text": [
      "warning: Embedding dir exists, did you set global_step for add_embedding()?\n",
      "=> <SOS>そう<UNK><UNK><UNK>ねだねよ<SOS>おはよう<UNK><UNK>ねだねよねよ<SOS>おはよう<UNK><UNK>ねだねよねよ<SOS>\n",
      "val loss: 11.396638780088503\n",
      "----------------------------------------------------------------------------------------------------\n",
      "epoch 74\n"
     ]
    },
    {
     "name": "stderr",
     "output_type": "stream",
     "text": [
      "100%|███████████████████████████████████████████████████████████████████████| 3/3 [00:00<00:00,  3.16it/s]\n",
      "100%|███████████████████████████████████████████████████████████████████████| 1/1 [00:00<00:00,  7.65it/s]\n"
     ]
    },
    {
     "name": "stdout",
     "output_type": "stream",
     "text": [
      "warning: Embedding dir exists, did you set global_step for add_embedding()?\n",
      "=> <SOS>そう<UNK><UNK><UNK>ねな<SOS>おはよう<UNK><UNK>ねだねよ<SOS>おはよう<UNK><UNK>ねだねよ<SOS>おはよう<UNK><UNK>ねだね\n",
      "val loss: 10.906991498694998\n",
      "----------------------------------------------------------------------------------------------------\n",
      "epoch 75\n"
     ]
    },
    {
     "name": "stderr",
     "output_type": "stream",
     "text": [
      "100%|███████████████████████████████████████████████████████████████████████| 3/3 [00:00<00:00,  3.33it/s]\n",
      "100%|███████████████████████████████████████████████████████████████████████| 1/1 [00:00<00:00,  7.26it/s]\n"
     ]
    },
    {
     "name": "stdout",
     "output_type": "stream",
     "text": [
      "warning: Embedding dir exists, did you set global_step for add_embedding()?\n",
      "=> <SOS>おはよう<UNK><UNK><UNK><UNK>ねな<SOS>おはよう<UNK><UNK>ねだねよねよ<SOS>おはよう<UNK><UNK><UNK>ねよ<SOS>おはよう<UNK><UNK>ね\n",
      "val loss: 11.500170729831169\n",
      "----------------------------------------------------------------------------------------------------\n",
      "epoch 76\n"
     ]
    },
    {
     "name": "stderr",
     "output_type": "stream",
     "text": [
      "100%|███████████████████████████████████████████████████████████████████████| 3/3 [00:00<00:00,  3.20it/s]\n",
      "100%|███████████████████████████████████████████████████████████████████████| 1/1 [00:00<00:00,  7.71it/s]\n"
     ]
    },
    {
     "name": "stdout",
     "output_type": "stream",
     "text": [
      "warning: Embedding dir exists, did you set global_step for add_embedding()?\n",
      "=> <SOS>そう<UNK><UNK><UNK>ねね<SOS>おはよう<UNK><UNK>ねだねよねよ<SOS>おはよう<UNK><UNK>ねだねよねよ<SOS>おはよう<UNK>\n",
      "val loss: 11.49837755932486\n",
      "----------------------------------------------------------------------------------------------------\n",
      "epoch 77\n"
     ]
    },
    {
     "name": "stderr",
     "output_type": "stream",
     "text": [
      "100%|███████████████████████████████████████████████████████████████████████| 3/3 [00:00<00:00,  3.31it/s]\n",
      "100%|███████████████████████████████████████████████████████████████████████| 1/1 [00:00<00:00,  8.22it/s]\n"
     ]
    },
    {
     "name": "stdout",
     "output_type": "stream",
     "text": [
      "warning: Embedding dir exists, did you set global_step for add_embedding()?\n",
      "=> <SOS>そう<UNK><UNK><UNK>ねね<SOS>おはよう<UNK><UNK>ねね<SOS>おはよう<UNK><UNK>ねだねよ<SOS>おはよう<UNK><UNK>ねだねよ<SOS>\n",
      "val loss: 12.126462527441879\n",
      "----------------------------------------------------------------------------------------------------\n",
      "epoch 78\n"
     ]
    },
    {
     "name": "stderr",
     "output_type": "stream",
     "text": [
      "100%|███████████████████████████████████████████████████████████████████████| 3/3 [00:00<00:00,  3.25it/s]\n",
      "100%|███████████████████████████████████████████████████████████████████████| 1/1 [00:00<00:00,  7.43it/s]\n"
     ]
    },
    {
     "name": "stdout",
     "output_type": "stream",
     "text": [
      "warning: Embedding dir exists, did you set global_step for add_embedding()?\n",
      "=> <SOS>そう<UNK><UNK><UNK>ねね<SOS>おはよう<UNK><UNK><UNK>ねな<SOS>おはよう<UNK><UNK>ねだねよ<SOS>おはよう<UNK><UNK><UNK>ねな<SOS>\n",
      "val loss: 12.361281868972007\n",
      "----------------------------------------------------------------------------------------------------\n",
      "epoch 79\n"
     ]
    },
    {
     "name": "stderr",
     "output_type": "stream",
     "text": [
      "100%|███████████████████████████████████████████████████████████████████████| 3/3 [00:00<00:00,  3.07it/s]\n",
      "100%|███████████████████████████████████████████████████████████████████████| 1/1 [00:00<00:00,  7.32it/s]\n"
     ]
    },
    {
     "name": "stdout",
     "output_type": "stream",
     "text": [
      "warning: Embedding dir exists, did you set global_step for add_embedding()?\n",
      "=> <SOS>そう<UNK><UNK><UNK>ねな<SOS>おはよう<UNK><UNK>ねね<SOS>おはよう<UNK><UNK>ねね<SOS>おはよう<UNK><UNK>ねね<SOS>おはよう<UNK><UNK>ね\n",
      "val loss: 12.93379748122448\n",
      "----------------------------------------------------------------------------------------------------\n",
      "epoch 80\n"
     ]
    },
    {
     "name": "stderr",
     "output_type": "stream",
     "text": [
      "100%|███████████████████████████████████████████████████████████████████████| 3/3 [00:00<00:00,  3.29it/s]\n",
      "100%|███████████████████████████████████████████████████████████████████████| 1/1 [00:00<00:00,  7.89it/s]\n"
     ]
    },
    {
     "name": "stdout",
     "output_type": "stream",
     "text": [
      "warning: Embedding dir exists, did you set global_step for add_embedding()?\n",
      "=> <SOS>そう<UNK><UNK><UNK>ねな<SOS>おはよう<UNK><UNK><UNK>ねよ<SOS><SOS>おはよう<UNK><UNK><UNK>ねな<SOS>おはよう<UNK><UNK>ねだねよ\n",
      "val loss: 12.1515932052503\n",
      "----------------------------------------------------------------------------------------------------\n",
      "epoch 81\n"
     ]
    },
    {
     "name": "stderr",
     "output_type": "stream",
     "text": [
      "100%|███████████████████████████████████████████████████████████████████████| 3/3 [00:00<00:00,  3.34it/s]\n",
      "100%|███████████████████████████████████████████████████████████████████████| 1/1 [00:00<00:00,  7.89it/s]\n"
     ]
    },
    {
     "name": "stdout",
     "output_type": "stream",
     "text": [
      "warning: Embedding dir exists, did you set global_step for add_embedding()?\n",
      "=> <SOS>そう<UNK><UNK><UNK>ねな<SOS><SOS>おはよう<UNK><UNK><UNK>ねよ<SOS><SOS>おはよう<UNK><UNK><UNK>ねよ<SOS><SOS>おはよう<UNK><UNK><UNK>ね\n",
      "val loss: 11.792540475112657\n",
      "----------------------------------------------------------------------------------------------------\n",
      "epoch 82\n"
     ]
    },
    {
     "name": "stderr",
     "output_type": "stream",
     "text": [
      "100%|███████████████████████████████████████████████████████████████████████| 3/3 [00:00<00:00,  3.29it/s]\n",
      "100%|███████████████████████████████████████████████████████████████████████| 1/1 [00:00<00:00,  7.80it/s]\n"
     ]
    },
    {
     "name": "stdout",
     "output_type": "stream",
     "text": [
      "warning: Embedding dir exists, did you set global_step for add_embedding()?\n",
      "=> <SOS>そう<UNK><UNK><UNK>ねな<SOS><SOS>おはよう<UNK><UNK><UNK>ねな<SOS><SOS>おはよう<UNK><UNK><UNK>ねな<SOS><SOS>おはよう<UNK><UNK><UNK>ね\n",
      "val loss: 12.549739457278369\n",
      "----------------------------------------------------------------------------------------------------\n",
      "epoch 83\n"
     ]
    },
    {
     "name": "stderr",
     "output_type": "stream",
     "text": [
      "100%|███████████████████████████████████████████████████████████████████████| 3/3 [00:01<00:00,  2.79it/s]\n",
      "100%|███████████████████████████████████████████████████████████████████████| 1/1 [00:00<00:00,  6.49it/s]\n"
     ]
    },
    {
     "name": "stdout",
     "output_type": "stream",
     "text": [
      "warning: Embedding dir exists, did you set global_step for add_embedding()?\n",
      "=> <SOS>そう<UNK><UNK><UNK><UNK>ね<SOS>おはよう<UNK><UNK><UNK>ねな<SOS>おはよう<UNK><UNK><UNK>ねな<SOS>おはよう<UNK><UNK><UNK>ねな<SOS>おはよう\n",
      "val loss: 13.47891889693903\n",
      "----------------------------------------------------------------------------------------------------\n",
      "epoch 84\n"
     ]
    },
    {
     "name": "stderr",
     "output_type": "stream",
     "text": [
      "100%|███████████████████████████████████████████████████████████████████████| 3/3 [00:00<00:00,  3.06it/s]\n",
      "100%|███████████████████████████████████████████████████████████████████████| 1/1 [00:00<00:00,  7.92it/s]\n"
     ]
    },
    {
     "name": "stdout",
     "output_type": "stream",
     "text": [
      "warning: Embedding dir exists, did you set global_step for add_embedding()?\n",
      "=> <SOS>そう<UNK><UNK><UNK><UNK>ね<SOS>おはよう<UNK><UNK><UNK>ねよ<SOS><SOS>おはよう<UNK><UNK><UNK>ねな<SOS><SOS>おはよう<UNK><UNK><UNK>ねな\n",
      "val loss: 14.724123231769015\n",
      "----------------------------------------------------------------------------------------------------\n",
      "epoch 85\n"
     ]
    },
    {
     "name": "stderr",
     "output_type": "stream",
     "text": [
      "100%|███████████████████████████████████████████████████████████████████████| 3/3 [00:00<00:00,  3.27it/s]\n",
      "100%|███████████████████████████████████████████████████████████████████████| 1/1 [00:00<00:00,  8.42it/s]\n"
     ]
    },
    {
     "name": "stdout",
     "output_type": "stream",
     "text": [
      "warning: Embedding dir exists, did you set global_step for add_embedding()?\n",
      "=> <SOS>そう<UNK><UNK><UNK><UNK>ね<SOS><SOS>おはよう<UNK><UNK><UNK>ねな<SOS><SOS>おはよう<UNK><UNK><UNK>ねな<SOS><SOS>おはよう<UNK><UNK><UNK>ね\n",
      "val loss: 14.895219632208045\n",
      "----------------------------------------------------------------------------------------------------\n",
      "epoch 86\n"
     ]
    },
    {
     "name": "stderr",
     "output_type": "stream",
     "text": [
      "100%|███████████████████████████████████████████████████████████████████████| 3/3 [00:00<00:00,  3.29it/s]\n",
      "100%|███████████████████████████████████████████████████████████████████████| 1/1 [00:00<00:00,  8.32it/s]\n"
     ]
    },
    {
     "name": "stdout",
     "output_type": "stream",
     "text": [
      "warning: Embedding dir exists, did you set global_step for add_embedding()?\n",
      "=> <SOS>そう<UNK><UNK><UNK><UNK>ね<SOS><SOS>おはよう<UNK><UNK><UNK>ねな<SOS><SOS>おはよう<UNK><UNK><UNK>ねよ<SOS><SOS>おはよう<UNK><UNK><UNK>ね\n",
      "val loss: 10.961452903957444\n",
      "----------------------------------------------------------------------------------------------------\n",
      "epoch 87\n"
     ]
    },
    {
     "name": "stderr",
     "output_type": "stream",
     "text": [
      "100%|███████████████████████████████████████████████████████████████████████| 3/3 [00:00<00:00,  3.34it/s]\n",
      "100%|███████████████████████████████████████████████████████████████████████| 1/1 [00:00<00:00,  8.29it/s]\n"
     ]
    },
    {
     "name": "stdout",
     "output_type": "stream",
     "text": [
      "warning: Embedding dir exists, did you set global_step for add_embedding()?\n",
      "=> <SOS>そう<UNK><UNK><UNK><UNK>ね<SOS><SOS>おはよう<UNK><UNK><UNK>ねな<SOS><SOS>おはよう<UNK><UNK><UNK>ねな<SOS><SOS>おはよう<UNK><UNK><UNK>ね\n",
      "val loss: 14.09570317589073\n",
      "----------------------------------------------------------------------------------------------------\n",
      "epoch 88\n"
     ]
    },
    {
     "name": "stderr",
     "output_type": "stream",
     "text": [
      "100%|███████████████████████████████████████████████████████████████████████| 3/3 [00:00<00:00,  3.26it/s]\n",
      "100%|███████████████████████████████████████████████████████████████████████| 1/1 [00:00<00:00,  7.29it/s]\n"
     ]
    },
    {
     "name": "stdout",
     "output_type": "stream",
     "text": [
      "warning: Embedding dir exists, did you set global_step for add_embedding()?\n",
      "=> <SOS>そう<UNK><UNK><UNK><UNK>ね<SOS><SOS>おはよう<UNK><UNK><UNK>ねな<SOS><SOS>おはよう<UNK><UNK><UNK>ねな<SOS><SOS>おはよう<UNK><UNK><UNK>ね\n",
      "val loss: 13.768479594757727\n",
      "----------------------------------------------------------------------------------------------------\n",
      "epoch 89\n"
     ]
    },
    {
     "name": "stderr",
     "output_type": "stream",
     "text": [
      "100%|███████████████████████████████████████████████████████████████████████| 3/3 [00:00<00:00,  3.35it/s]\n",
      "100%|███████████████████████████████████████████████████████████████████████| 1/1 [00:00<00:00,  8.42it/s]\n"
     ]
    },
    {
     "name": "stdout",
     "output_type": "stream",
     "text": [
      "warning: Embedding dir exists, did you set global_step for add_embedding()?\n",
      "=> <SOS>そう<UNK><UNK><UNK><UNK>ね<SOS><SOS>おはよう<UNK><UNK><UNK>ねな<SOS><SOS>おはよう<UNK><UNK><UNK>ねな<SOS><SOS>おはよう<UNK><UNK><UNK>ね\n",
      "val loss: 15.541587852880719\n",
      "----------------------------------------------------------------------------------------------------\n",
      "epoch 90\n"
     ]
    },
    {
     "name": "stderr",
     "output_type": "stream",
     "text": [
      "100%|███████████████████████████████████████████████████████████████████████| 3/3 [00:00<00:00,  3.26it/s]\n",
      "100%|███████████████████████████████████████████████████████████████████████| 1/1 [00:00<00:00,  8.25it/s]\n"
     ]
    },
    {
     "name": "stdout",
     "output_type": "stream",
     "text": [
      "warning: Embedding dir exists, did you set global_step for add_embedding()?\n",
      "=> <SOS>そう<UNK><UNK><UNK><UNK>ね<SOS><SOS>おはよう<UNK><UNK><UNK>ねな<SOS><SOS>おはよう<UNK><UNK><UNK>ねな<SOS><SOS>おはよう<UNK><UNK><UNK>ね\n",
      "val loss: 15.327380626302197\n",
      "----------------------------------------------------------------------------------------------------\n",
      "epoch 91\n"
     ]
    },
    {
     "name": "stderr",
     "output_type": "stream",
     "text": [
      "100%|███████████████████████████████████████████████████████████████████████| 3/3 [00:00<00:00,  3.30it/s]\n",
      "100%|███████████████████████████████████████████████████████████████████████| 1/1 [00:00<00:00,  8.02it/s]\n"
     ]
    },
    {
     "name": "stdout",
     "output_type": "stream",
     "text": [
      "warning: Embedding dir exists, did you set global_step for add_embedding()?\n",
      "=> <SOS>そう<UNK><UNK><UNK><UNK>ねな<SOS><SOS>おはよう<UNK><UNK><UNK><UNK>ねな<SOS><SOS>おはよう<UNK><UNK><UNK><UNK>ねな<SOS><SOS>おはよう<UNK>\n",
      "val loss: 15.12245755218414\n",
      "----------------------------------------------------------------------------------------------------\n",
      "epoch 92\n"
     ]
    },
    {
     "name": "stderr",
     "output_type": "stream",
     "text": [
      "100%|███████████████████████████████████████████████████████████████████████| 3/3 [00:00<00:00,  3.20it/s]\n",
      "100%|███████████████████████████████████████████████████████████████████████| 1/1 [00:00<00:00,  7.66it/s]\n"
     ]
    },
    {
     "name": "stdout",
     "output_type": "stream",
     "text": [
      "warning: Embedding dir exists, did you set global_step for add_embedding()?\n",
      "=> <SOS>そう<UNK><UNK><UNK><UNK>ねな<SOS><SOS>おはよう<UNK><UNK><UNK><UNK>ねな<SOS><SOS>おはよう<UNK><UNK><UNK><UNK>ねな<SOS><SOS>おはよう<UNK>\n",
      "val loss: 16.157021622403644\n",
      "----------------------------------------------------------------------------------------------------\n",
      "epoch 93\n"
     ]
    },
    {
     "name": "stderr",
     "output_type": "stream",
     "text": [
      "100%|███████████████████████████████████████████████████████████████████████| 3/3 [00:00<00:00,  3.28it/s]\n",
      "100%|███████████████████████████████████████████████████████████████████████| 1/1 [00:00<00:00,  7.62it/s]\n"
     ]
    },
    {
     "name": "stdout",
     "output_type": "stream",
     "text": [
      "warning: Embedding dir exists, did you set global_step for add_embedding()?\n",
      "=> <SOS>そう<UNK><UNK><UNK><UNK><UNK>ね<SOS><SOS>おはよう<UNK><UNK><UNK><UNK>ねなね<SOS><SOS>おはよう<UNK><UNK><UNK><UNK>ねな<SOS><SOS>おはよう\n",
      "val loss: 16.812564857369477\n",
      "----------------------------------------------------------------------------------------------------\n",
      "epoch 94\n"
     ]
    },
    {
     "name": "stderr",
     "output_type": "stream",
     "text": [
      "100%|███████████████████████████████████████████████████████████████████████| 3/3 [00:00<00:00,  3.37it/s]\n",
      "100%|███████████████████████████████████████████████████████████████████████| 1/1 [00:00<00:00,  8.02it/s]\n"
     ]
    },
    {
     "name": "stdout",
     "output_type": "stream",
     "text": [
      "warning: Embedding dir exists, did you set global_step for add_embedding()?\n",
      "=> <SOS>そう<UNK><UNK><UNK><UNK><UNK>なね<SOS><SOS>おはよう<UNK><UNK><UNK><UNK>ねな<SOS><SOS>おはよう<UNK><UNK><UNK><UNK>ねな<SOS><SOS>おはよう\n",
      "val loss: 16.62963271913034\n",
      "----------------------------------------------------------------------------------------------------\n",
      "epoch 95\n"
     ]
    },
    {
     "name": "stderr",
     "output_type": "stream",
     "text": [
      "100%|███████████████████████████████████████████████████████████████████████| 3/3 [00:00<00:00,  3.36it/s]\n",
      "100%|███████████████████████████████████████████████████████████████████████| 1/1 [00:00<00:00,  8.22it/s]\n"
     ]
    },
    {
     "name": "stdout",
     "output_type": "stream",
     "text": [
      "warning: Embedding dir exists, did you set global_step for add_embedding()?\n",
      "=> <SOS>そう<UNK><UNK><UNK><UNK>ねな<SOS><SOS>おはよう<UNK><UNK><UNK><UNK>ねな<SOS><SOS>おはよう<UNK><UNK><UNK><UNK>ねな<SOS><SOS>おはよう<UNK>\n",
      "val loss: 16.786163112611906\n",
      "----------------------------------------------------------------------------------------------------\n",
      "epoch 96\n"
     ]
    },
    {
     "name": "stderr",
     "output_type": "stream",
     "text": [
      "100%|███████████████████████████████████████████████████████████████████████| 3/3 [00:00<00:00,  3.28it/s]\n",
      "100%|███████████████████████████████████████████████████████████████████████| 1/1 [00:00<00:00,  7.59it/s]\n"
     ]
    },
    {
     "name": "stdout",
     "output_type": "stream",
     "text": [
      "warning: Embedding dir exists, did you set global_step for add_embedding()?\n",
      "=> <SOS>そう<UNK><UNK><UNK><UNK>ねな<SOS><SOS>おはよう<UNK><UNK><UNK><UNK>ねな<SOS><SOS>おはよう<UNK><UNK><UNK><UNK>ねな<SOS><SOS>おはよう<UNK>\n",
      "val loss: 15.933545907380124\n",
      "----------------------------------------------------------------------------------------------------\n",
      "epoch 97\n"
     ]
    },
    {
     "name": "stderr",
     "output_type": "stream",
     "text": [
      "100%|███████████████████████████████████████████████████████████████████████| 3/3 [00:00<00:00,  3.22it/s]\n",
      "100%|███████████████████████████████████████████████████████████████████████| 1/1 [00:00<00:00,  8.02it/s]\n"
     ]
    },
    {
     "name": "stdout",
     "output_type": "stream",
     "text": [
      "warning: Embedding dir exists, did you set global_step for add_embedding()?\n",
      "=> <SOS>そう<UNK><UNK><UNK><UNK>ねな<SOS><SOS>おはよう<UNK><UNK><UNK><UNK>ねな<SOS><SOS>おはよう<UNK><UNK><UNK><UNK>なな<SOS><SOS>おはよう<UNK>\n",
      "val loss: 15.99267397562307\n",
      "----------------------------------------------------------------------------------------------------\n",
      "epoch 98\n"
     ]
    },
    {
     "name": "stderr",
     "output_type": "stream",
     "text": [
      "100%|███████████████████████████████████████████████████████████████████████| 3/3 [00:00<00:00,  3.22it/s]\n",
      "100%|███████████████████████████████████████████████████████████████████████| 1/1 [00:00<00:00,  8.42it/s]\n"
     ]
    },
    {
     "name": "stdout",
     "output_type": "stream",
     "text": [
      "warning: Embedding dir exists, did you set global_step for add_embedding()?\n",
      "=> <SOS>そう<UNK><UNK><UNK><UNK>なな<SOS><SOS>おはよう<UNK><UNK><UNK><UNK>なな<SOS><SOS>おはよう<UNK><UNK><UNK><UNK>なよ<SOS><SOS>おはよう<UNK>\n",
      "val loss: 18.360363571459384\n",
      "----------------------------------------------------------------------------------------------------\n",
      "epoch 99\n"
     ]
    },
    {
     "name": "stderr",
     "output_type": "stream",
     "text": [
      "100%|███████████████████████████████████████████████████████████████████████| 3/3 [00:00<00:00,  3.31it/s]\n",
      "100%|███████████████████████████████████████████████████████████████████████| 1/1 [00:00<00:00,  8.42it/s]\n"
     ]
    },
    {
     "name": "stdout",
     "output_type": "stream",
     "text": [
      "warning: Embedding dir exists, did you set global_step for add_embedding()?\n",
      "=> <SOS>そう<UNK><UNK><UNK><UNK>ななねね<SOS><SOS>おはよう<UNK><UNK><UNK><UNK>ねな<SOS><SOS>おはよう<UNK><UNK><UNK><UNK>ななねね\n",
      "val loss: 17.06291998523339\n",
      "----------------------------------------------------------------------------------------------------\n",
      "epoch 100\n"
     ]
    },
    {
     "name": "stderr",
     "output_type": "stream",
     "text": [
      "100%|███████████████████████████████████████████████████████████████████████| 3/3 [00:00<00:00,  3.09it/s]\n",
      "100%|███████████████████████████████████████████████████████████████████████| 1/1 [00:00<00:00,  7.57it/s]\n"
     ]
    },
    {
     "name": "stdout",
     "output_type": "stream",
     "text": [
      "warning: Embedding dir exists, did you set global_step for add_embedding()?\n",
      "=> <SOS>そう<UNK><UNK><UNK><UNK>ななねね<SOS><SOS>おはよう<UNK><UNK><UNK><UNK>ねな<SOS><SOS>おはよう<UNK><UNK><UNK><UNK>ななねね\n",
      "val loss: 19.048805623454015\n",
      "----------------------------------------------------------------------------------------------------\n",
      "epoch 101\n"
     ]
    },
    {
     "name": "stderr",
     "output_type": "stream",
     "text": [
      "100%|███████████████████████████████████████████████████████████████████████| 3/3 [00:00<00:00,  3.29it/s]\n",
      "100%|███████████████████████████████████████████████████████████████████████| 1/1 [00:00<00:00,  8.15it/s]\n"
     ]
    },
    {
     "name": "stdout",
     "output_type": "stream",
     "text": [
      "warning: Embedding dir exists, did you set global_step for add_embedding()?\n",
      "=> <SOS>おはよう<UNK><UNK><UNK><UNK><UNK>ななねよねね<SOS><SOS>おはよう<UNK><UNK><UNK><UNK><UNK>なよねね<SOS><SOS>おはよう<UNK><UNK>\n",
      "val loss: 19.204681399997767\n",
      "----------------------------------------------------------------------------------------------------\n",
      "epoch 102\n"
     ]
    },
    {
     "name": "stderr",
     "output_type": "stream",
     "text": [
      "100%|███████████████████████████████████████████████████████████████████████| 3/3 [00:00<00:00,  3.36it/s]\n",
      "100%|███████████████████████████████████████████████████████████████████████| 1/1 [00:00<00:00,  7.11it/s]\n"
     ]
    },
    {
     "name": "stdout",
     "output_type": "stream",
     "text": [
      "warning: Embedding dir exists, did you set global_step for add_embedding()?\n",
      "=> <SOS>おはよう<UNK><UNK><UNK><UNK><UNK>なよねね<SOS><SOS>おはよう<UNK><UNK><UNK><UNK><UNK>なよねね<SOS><SOS>おはよう<UNK><UNK><UNK><UNK>\n",
      "val loss: 19.903180715039607\n",
      "----------------------------------------------------------------------------------------------------\n",
      "epoch 103\n"
     ]
    },
    {
     "name": "stderr",
     "output_type": "stream",
     "text": [
      "100%|███████████████████████████████████████████████████████████████████████| 3/3 [00:00<00:00,  3.25it/s]\n",
      "100%|███████████████████████████████████████████████████████████████████████| 1/1 [00:00<00:00,  7.89it/s]\n"
     ]
    },
    {
     "name": "stdout",
     "output_type": "stream",
     "text": [
      "warning: Embedding dir exists, did you set global_step for add_embedding()?\n",
      "=> <SOS>おはよう<UNK><UNK><UNK><UNK><UNK>なよねね<SOS><SOS>おはよう<UNK><UNK><UNK><UNK><UNK>なよねね<SOS><SOS>おはよう<UNK><UNK><UNK><UNK>\n",
      "val loss: 17.922928496553265\n",
      "----------------------------------------------------------------------------------------------------\n",
      "epoch 104\n"
     ]
    },
    {
     "name": "stderr",
     "output_type": "stream",
     "text": [
      "100%|███████████████████████████████████████████████████████████████████████| 3/3 [00:00<00:00,  3.26it/s]\n",
      "100%|███████████████████████████████████████████████████████████████████████| 1/1 [00:00<00:00,  7.96it/s]\n"
     ]
    },
    {
     "name": "stdout",
     "output_type": "stream",
     "text": [
      "warning: Embedding dir exists, did you set global_step for add_embedding()?\n",
      "=> <SOS>おはよう<UNK><UNK><UNK><UNK><UNK>なよねね<SOS><SOS>おはよう<UNK><UNK><UNK><UNK><UNK>なよねね<SOS><SOS>おはよう<UNK><UNK><UNK><UNK>\n",
      "val loss: 17.80980313627511\n",
      "----------------------------------------------------------------------------------------------------\n",
      "epoch 105\n"
     ]
    },
    {
     "name": "stderr",
     "output_type": "stream",
     "text": [
      "100%|███████████████████████████████████████████████████████████████████████| 3/3 [00:01<00:00,  2.84it/s]\n",
      "100%|███████████████████████████████████████████████████████████████████████| 1/1 [00:00<00:00,  6.75it/s]\n"
     ]
    },
    {
     "name": "stdout",
     "output_type": "stream",
     "text": [
      "warning: Embedding dir exists, did you set global_step for add_embedding()?\n",
      "=> <SOS>おはよう<UNK><UNK><UNK><UNK><UNK>なよねね<SOS><SOS>おはようそう<UNK><UNK><UNK><UNK>なよねね<SOS><SOS>おはようそう<UNK><UNK><UNK>\n",
      "val loss: 19.77667012811407\n",
      "----------------------------------------------------------------------------------------------------\n",
      "epoch 106\n"
     ]
    },
    {
     "name": "stderr",
     "output_type": "stream",
     "text": [
      "100%|███████████████████████████████████████████████████████████████████████| 3/3 [00:01<00:00,  2.42it/s]\n",
      "100%|███████████████████████████████████████████████████████████████████████| 1/1 [00:00<00:00,  6.51it/s]\n"
     ]
    },
    {
     "name": "stdout",
     "output_type": "stream",
     "text": [
      "warning: Embedding dir exists, did you set global_step for add_embedding()?\n",
      "=> <SOS>おはよう<UNK><UNK><UNK><UNK><UNK>な<SOS><SOS>おはよう<UNK><UNK><UNK><UNK>なよ<SOS><SOS>おはよう<UNK><UNK><UNK><UNK>なよ<SOS><SOS>おはよう<UNK>\n",
      "val loss: 19.93992891336844\n",
      "----------------------------------------------------------------------------------------------------\n",
      "epoch 107\n"
     ]
    },
    {
     "name": "stderr",
     "output_type": "stream",
     "text": [
      "100%|███████████████████████████████████████████████████████████████████████| 3/3 [00:00<00:00,  2.99it/s]\n",
      "100%|███████████████████████████████████████████████████████████████████████| 1/1 [00:00<00:00,  8.12it/s]\n"
     ]
    },
    {
     "name": "stdout",
     "output_type": "stream",
     "text": [
      "warning: Embedding dir exists, did you set global_step for add_embedding()?\n",
      "=> <SOS>そう<UNK><UNK><UNK><UNK>なよ<SOS><SOS>おはよう<UNK><UNK><UNK><UNK>なよ<SOS><SOS>おはよう<UNK><UNK><UNK><UNK>なよねね<SOS><SOS>\n",
      "val loss: 17.38633525973574\n",
      "----------------------------------------------------------------------------------------------------\n",
      "epoch 108\n"
     ]
    },
    {
     "name": "stderr",
     "output_type": "stream",
     "text": [
      "100%|███████████████████████████████████████████████████████████████████████| 3/3 [00:01<00:00,  2.15it/s]\n",
      "100%|███████████████████████████████████████████████████████████████████████| 1/1 [00:00<00:00,  7.01it/s]\n"
     ]
    },
    {
     "name": "stdout",
     "output_type": "stream",
     "text": [
      "warning: Embedding dir exists, did you set global_step for add_embedding()?\n",
      "=> <SOS>そう<UNK><UNK><UNK><UNK><EOS>\n",
      "val loss: 17.528251797758344\n",
      "----------------------------------------------------------------------------------------------------\n",
      "epoch 109\n"
     ]
    },
    {
     "name": "stderr",
     "output_type": "stream",
     "text": [
      "100%|███████████████████████████████████████████████████████████████████████| 3/3 [00:01<00:00,  2.43it/s]\n",
      "100%|███████████████████████████████████████████████████████████████████████| 1/1 [00:00<00:00,  5.04it/s]\n"
     ]
    },
    {
     "name": "stdout",
     "output_type": "stream",
     "text": [
      "warning: Embedding dir exists, did you set global_step for add_embedding()?\n",
      "=> <SOS>そう<UNK><UNK><UNK><UNK><UNK><EOS>\n",
      "val loss: 13.689264011787921\n",
      "----------------------------------------------------------------------------------------------------\n",
      "epoch 110\n"
     ]
    },
    {
     "name": "stderr",
     "output_type": "stream",
     "text": [
      "100%|███████████████████████████████████████████████████████████████████████| 3/3 [00:01<00:00,  1.91it/s]\n",
      "100%|███████████████████████████████████████████████████████████████████████| 1/1 [00:00<00:00,  7.24it/s]\n"
     ]
    },
    {
     "name": "stdout",
     "output_type": "stream",
     "text": [
      "warning: Embedding dir exists, did you set global_step for add_embedding()?\n",
      "=> <SOS>そう<UNK><UNK><UNK><UNK>な<SOS><SOS>おはよう<UNK><UNK>ねね<SOS><SOS>おはよう<UNK><UNK>ねね<SOS><SOS>おはよう<UNK><UNK>ねね<SOS><SOS>\n",
      "val loss: 13.472304467693398\n",
      "----------------------------------------------------------------------------------------------------\n",
      "epoch 111\n"
     ]
    },
    {
     "name": "stderr",
     "output_type": "stream",
     "text": [
      "100%|███████████████████████████████████████████████████████████████████████| 3/3 [00:00<00:00,  3.13it/s]\n",
      "100%|███████████████████████████████████████████████████████████████████████| 1/1 [00:00<00:00,  8.29it/s]\n"
     ]
    },
    {
     "name": "stdout",
     "output_type": "stream",
     "text": [
      "warning: Embedding dir exists, did you set global_step for add_embedding()?\n",
      "=> <SOS>おはよう<UNK><UNK><UNK><UNK><UNK><EOS>\n",
      "val loss: 11.840901238680527\n",
      "----------------------------------------------------------------------------------------------------\n",
      "epoch 112\n"
     ]
    },
    {
     "name": "stderr",
     "output_type": "stream",
     "text": [
      "100%|███████████████████████████████████████████████████████████████████████| 3/3 [00:01<00:00,  2.52it/s]\n",
      "100%|███████████████████████████████████████████████████████████████████████| 1/1 [00:00<00:00,  7.01it/s]\n"
     ]
    },
    {
     "name": "stdout",
     "output_type": "stream",
     "text": [
      "warning: Embedding dir exists, did you set global_step for add_embedding()?\n",
      "=> <SOS>そう<UNK><UNK><UNK><UNK>な<SOS><SOS>おはよう<UNK><UNK>ねね<SOS><SOS>おはよう<UNK><UNK><UNK><UNK>な<SOS><SOS>おはよう<UNK><UNK>ねな<SOS>\n",
      "val loss: 14.96906788975801\n",
      "----------------------------------------------------------------------------------------------------\n",
      "epoch 113\n"
     ]
    },
    {
     "name": "stderr",
     "output_type": "stream",
     "text": [
      "100%|███████████████████████████████████████████████████████████████████████| 3/3 [00:00<00:00,  3.09it/s]\n",
      "100%|███████████████████████████████████████████████████████████████████████| 1/1 [00:00<00:00,  8.08it/s]\n"
     ]
    },
    {
     "name": "stdout",
     "output_type": "stream",
     "text": [
      "warning: Embedding dir exists, did you set global_step for add_embedding()?\n",
      "=> <SOS>おはよう<UNK><UNK><UNK><UNK><UNK>ななね<SOS><SOS>おはよう<UNK><UNK><UNK><UNK>ななね<SOS><SOS>おはよう<UNK><UNK><UNK><UNK>ななね\n",
      "val loss: 11.439014569720635\n",
      "----------------------------------------------------------------------------------------------------\n",
      "epoch 114\n"
     ]
    },
    {
     "name": "stderr",
     "output_type": "stream",
     "text": [
      "100%|███████████████████████████████████████████████████████████████████████| 3/3 [00:00<00:00,  3.17it/s]\n",
      "100%|███████████████████████████████████████████████████████████████████████| 1/1 [00:00<00:00,  8.26it/s]\n"
     ]
    },
    {
     "name": "stdout",
     "output_type": "stream",
     "text": [
      "warning: Embedding dir exists, did you set global_step for add_embedding()?\n",
      "=> <SOS>そう<UNK><UNK><UNK><UNK>なな<SOS>おはよう<UNK>ねねなな<SOS>おはよう<UNK>ねねなな<SOS>おはよう<UNK>ねねなな<SOS>\n",
      "val loss: 13.921264471646271\n",
      "----------------------------------------------------------------------------------------------------\n",
      "epoch 115\n"
     ]
    },
    {
     "name": "stderr",
     "output_type": "stream",
     "text": [
      "100%|███████████████████████████████████████████████████████████████████████| 3/3 [00:00<00:00,  3.27it/s]\n",
      "100%|███████████████████████████████████████████████████████████████████████| 1/1 [00:00<00:00,  8.15it/s]\n"
     ]
    },
    {
     "name": "stdout",
     "output_type": "stream",
     "text": [
      "warning: Embedding dir exists, did you set global_step for add_embedding()?\n",
      "=> <SOS>おはよう<UNK><UNK><UNK><UNK><UNK><EOS>\n",
      "val loss: 13.988023671436963\n",
      "----------------------------------------------------------------------------------------------------\n",
      "epoch 116\n"
     ]
    },
    {
     "name": "stderr",
     "output_type": "stream",
     "text": [
      "100%|███████████████████████████████████████████████████████████████████████| 3/3 [00:00<00:00,  3.28it/s]\n",
      "100%|███████████████████████████████████████████████████████████████████████| 1/1 [00:00<00:00,  8.09it/s]\n"
     ]
    },
    {
     "name": "stdout",
     "output_type": "stream",
     "text": [
      "warning: Embedding dir exists, did you set global_step for add_embedding()?\n",
      "=> <SOS>おはよう<UNK><UNK><UNK><UNK><UNK><UNK>な<EOS>\n",
      "val loss: 16.192834276023113\n",
      "----------------------------------------------------------------------------------------------------\n",
      "epoch 117\n"
     ]
    },
    {
     "name": "stderr",
     "output_type": "stream",
     "text": [
      "100%|███████████████████████████████████████████████████████████████████████| 3/3 [00:00<00:00,  3.25it/s]\n",
      "100%|███████████████████████████████████████████████████████████████████████| 1/1 [00:00<00:00,  8.35it/s]\n"
     ]
    },
    {
     "name": "stdout",
     "output_type": "stream",
     "text": [
      "warning: Embedding dir exists, did you set global_step for add_embedding()?\n",
      "=> <SOS>おはよう<UNK><UNK><UNK><UNK><UNK><UNK><EOS>\n",
      "val loss: 14.611600592419496\n",
      "----------------------------------------------------------------------------------------------------\n",
      "epoch 118\n"
     ]
    },
    {
     "name": "stderr",
     "output_type": "stream",
     "text": [
      "100%|███████████████████████████████████████████████████████████████████████| 3/3 [00:00<00:00,  3.29it/s]\n",
      "100%|███████████████████████████████████████████████████████████████████████| 1/1 [00:00<00:00,  8.08it/s]\n"
     ]
    },
    {
     "name": "stdout",
     "output_type": "stream",
     "text": [
      "warning: Embedding dir exists, did you set global_step for add_embedding()?\n",
      "=> <SOS>おはよう<UNK><UNK><UNK><UNK><UNK><EOS>\n",
      "val loss: 14.735099970818206\n",
      "----------------------------------------------------------------------------------------------------\n",
      "epoch 119\n"
     ]
    },
    {
     "name": "stderr",
     "output_type": "stream",
     "text": [
      "100%|███████████████████████████████████████████████████████████████████████| 3/3 [00:00<00:00,  3.23it/s]\n",
      "100%|███████████████████████████████████████████████████████████████████████| 1/1 [00:00<00:00,  7.60it/s]\n"
     ]
    },
    {
     "name": "stdout",
     "output_type": "stream",
     "text": [
      "warning: Embedding dir exists, did you set global_step for add_embedding()?\n",
      "=> <SOS>おはよう<UNK><UNK><UNK><UNK><UNK><EOS>\n",
      "val loss: 13.992072347238198\n",
      "----------------------------------------------------------------------------------------------------\n",
      "epoch 120\n"
     ]
    },
    {
     "name": "stderr",
     "output_type": "stream",
     "text": [
      "100%|███████████████████████████████████████████████████████████████████████| 3/3 [00:00<00:00,  3.29it/s]\n",
      "100%|███████████████████████████████████████████████████████████████████████| 1/1 [00:00<00:00,  8.22it/s]\n"
     ]
    },
    {
     "name": "stdout",
     "output_type": "stream",
     "text": [
      "warning: Embedding dir exists, did you set global_step for add_embedding()?\n",
      "=> <SOS>おはよう<UNK><UNK><UNK><UNK><UNK><EOS>\n",
      "val loss: 16.218962836387554\n",
      "----------------------------------------------------------------------------------------------------\n",
      "epoch 121\n"
     ]
    },
    {
     "name": "stderr",
     "output_type": "stream",
     "text": [
      "100%|███████████████████████████████████████████████████████████████████████| 3/3 [00:00<00:00,  3.20it/s]\n",
      "100%|███████████████████████████████████████████████████████████████████████| 1/1 [00:00<00:00,  8.22it/s]\n"
     ]
    },
    {
     "name": "stdout",
     "output_type": "stream",
     "text": [
      "warning: Embedding dir exists, did you set global_step for add_embedding()?\n",
      "=> <SOS>おはよう<UNK><UNK><UNK><UNK><UNK><EOS>\n",
      "val loss: 20.516392033288355\n",
      "----------------------------------------------------------------------------------------------------\n",
      "epoch 122\n"
     ]
    },
    {
     "name": "stderr",
     "output_type": "stream",
     "text": [
      "100%|███████████████████████████████████████████████████████████████████████| 3/3 [00:00<00:00,  3.38it/s]\n",
      "100%|███████████████████████████████████████████████████████████████████████| 1/1 [00:00<00:00,  7.59it/s]\n"
     ]
    },
    {
     "name": "stdout",
     "output_type": "stream",
     "text": [
      "warning: Embedding dir exists, did you set global_step for add_embedding()?\n",
      "=> <SOS>おはよう<UNK><UNK><UNK><UNK><UNK><EOS>\n",
      "val loss: 19.35232639398367\n",
      "----------------------------------------------------------------------------------------------------\n",
      "epoch 123\n"
     ]
    },
    {
     "name": "stderr",
     "output_type": "stream",
     "text": [
      "100%|███████████████████████████████████████████████████████████████████████| 3/3 [00:00<00:00,  3.26it/s]\n",
      "100%|███████████████████████████████████████████████████████████████████████| 1/1 [00:00<00:00,  8.22it/s]\n"
     ]
    },
    {
     "name": "stdout",
     "output_type": "stream",
     "text": [
      "warning: Embedding dir exists, did you set global_step for add_embedding()?\n",
      "=> <SOS>おはよう<UNK><UNK><UNK><UNK><UNK><EOS>\n",
      "val loss: 20.82144128063835\n",
      "----------------------------------------------------------------------------------------------------\n",
      "epoch 124\n"
     ]
    },
    {
     "name": "stderr",
     "output_type": "stream",
     "text": [
      "100%|███████████████████████████████████████████████████████████████████████| 3/3 [00:00<00:00,  3.37it/s]\n",
      "100%|███████████████████████████████████████████████████████████████████████| 1/1 [00:00<00:00,  8.28it/s]\n"
     ]
    },
    {
     "name": "stdout",
     "output_type": "stream",
     "text": [
      "warning: Embedding dir exists, did you set global_step for add_embedding()?\n",
      "=> <SOS>おはよう<UNK><UNK><UNK><UNK><UNK><EOS>\n",
      "val loss: 18.98851734836391\n",
      "----------------------------------------------------------------------------------------------------\n",
      "epoch 125\n"
     ]
    },
    {
     "name": "stderr",
     "output_type": "stream",
     "text": [
      "100%|███████████████████████████████████████████████████████████████████████| 3/3 [00:00<00:00,  3.36it/s]\n",
      "100%|███████████████████████████████████████████████████████████████████████| 1/1 [00:00<00:00,  7.65it/s]\n"
     ]
    },
    {
     "name": "stdout",
     "output_type": "stream",
     "text": [
      "warning: Embedding dir exists, did you set global_step for add_embedding()?\n",
      "=> <SOS>おはよう<UNK><UNK><UNK><UNK><UNK><EOS>\n",
      "val loss: 20.06862172948586\n",
      "----------------------------------------------------------------------------------------------------\n",
      "epoch 126\n"
     ]
    },
    {
     "name": "stderr",
     "output_type": "stream",
     "text": [
      "100%|███████████████████████████████████████████████████████████████████████| 3/3 [00:00<00:00,  3.33it/s]\n",
      "100%|███████████████████████████████████████████████████████████████████████| 1/1 [00:00<00:00,  8.53it/s]\n"
     ]
    },
    {
     "name": "stdout",
     "output_type": "stream",
     "text": [
      "warning: Embedding dir exists, did you set global_step for add_embedding()?\n",
      "=> <SOS>おはよう<UNK><UNK><UNK><UNK><UNK><EOS>\n",
      "val loss: 22.441079082027812\n",
      "----------------------------------------------------------------------------------------------------\n",
      "epoch 127\n"
     ]
    },
    {
     "name": "stderr",
     "output_type": "stream",
     "text": [
      "100%|███████████████████████████████████████████████████████████████████████| 3/3 [00:00<00:00,  3.35it/s]\n",
      "100%|███████████████████████████████████████████████████████████████████████| 1/1 [00:00<00:00,  8.64it/s]\n"
     ]
    },
    {
     "name": "stdout",
     "output_type": "stream",
     "text": [
      "warning: Embedding dir exists, did you set global_step for add_embedding()?\n",
      "=> <SOS>おはよう<UNK><UNK><UNK><UNK><UNK>な<EOS>\n",
      "val loss: 16.23374525863299\n",
      "----------------------------------------------------------------------------------------------------\n",
      "epoch 128\n"
     ]
    },
    {
     "name": "stderr",
     "output_type": "stream",
     "text": [
      "100%|███████████████████████████████████████████████████████████████████████| 3/3 [00:00<00:00,  3.33it/s]\n",
      "100%|███████████████████████████████████████████████████████████████████████| 1/1 [00:00<00:00,  7.92it/s]\n"
     ]
    },
    {
     "name": "stdout",
     "output_type": "stream",
     "text": [
      "warning: Embedding dir exists, did you set global_step for add_embedding()?\n",
      "=> <SOS>おはよう<UNK><UNK><UNK><UNK><UNK><EOS>\n",
      "val loss: 23.37855796866815\n",
      "----------------------------------------------------------------------------------------------------\n",
      "epoch 129\n"
     ]
    },
    {
     "name": "stderr",
     "output_type": "stream",
     "text": [
      "100%|███████████████████████████████████████████████████████████████████████| 3/3 [00:00<00:00,  3.23it/s]\n",
      "100%|███████████████████████████████████████████████████████████████████████| 1/1 [00:00<00:00,  8.35it/s]\n"
     ]
    },
    {
     "name": "stdout",
     "output_type": "stream",
     "text": [
      "warning: Embedding dir exists, did you set global_step for add_embedding()?\n",
      "=> <SOS>おはよう<UNK><UNK>ね<UNK><UNK>な<EOS>\n",
      "val loss: 23.226505720776284\n",
      "----------------------------------------------------------------------------------------------------\n",
      "epoch 130\n"
     ]
    },
    {
     "name": "stderr",
     "output_type": "stream",
     "text": [
      "100%|███████████████████████████████████████████████████████████████████████| 3/3 [00:00<00:00,  3.28it/s]\n",
      "100%|███████████████████████████████████████████████████████████████████████| 1/1 [00:00<00:00,  8.09it/s]\n"
     ]
    },
    {
     "name": "stdout",
     "output_type": "stream",
     "text": [
      "warning: Embedding dir exists, did you set global_step for add_embedding()?\n",
      "=> <SOS>おはよう<UNK><UNK>ね<UNK><UNK>な<EOS>\n",
      "val loss: 25.26486922199146\n",
      "----------------------------------------------------------------------------------------------------\n",
      "epoch 131\n"
     ]
    },
    {
     "name": "stderr",
     "output_type": "stream",
     "text": [
      "100%|███████████████████████████████████████████████████████████████████████| 3/3 [00:00<00:00,  3.35it/s]\n",
      "100%|███████████████████████████████████████████████████████████████████████| 1/1 [00:00<00:00,  8.50it/s]\n"
     ]
    },
    {
     "name": "stdout",
     "output_type": "stream",
     "text": [
      "warning: Embedding dir exists, did you set global_step for add_embedding()?\n",
      "=> <SOS>おはよう<UNK><UNK>ね<UNK><UNK>な<EOS>\n",
      "val loss: 25.0311410898197\n",
      "----------------------------------------------------------------------------------------------------\n",
      "epoch 132\n"
     ]
    },
    {
     "name": "stderr",
     "output_type": "stream",
     "text": [
      "100%|███████████████████████████████████████████████████████████████████████| 3/3 [00:00<00:00,  3.29it/s]\n",
      "100%|███████████████████████████████████████████████████████████████████████| 1/1 [00:00<00:00,  7.51it/s]\n"
     ]
    },
    {
     "name": "stdout",
     "output_type": "stream",
     "text": [
      "warning: Embedding dir exists, did you set global_step for add_embedding()?\n",
      "=> <SOS>そう<UNK>ね<UNK><UNK>ななよ<SOS>おはようよねね<UNK>なよ<SOS>おはようよねね<UNK>なよ<SOS>おはようよねね\n",
      "val loss: 24.21211307347496\n",
      "----------------------------------------------------------------------------------------------------\n",
      "epoch 133\n"
     ]
    },
    {
     "name": "stderr",
     "output_type": "stream",
     "text": [
      "100%|███████████████████████████████████████████████████████████████████████| 3/3 [00:00<00:00,  3.31it/s]\n",
      "100%|███████████████████████████████████████████████████████████████████████| 1/1 [00:00<00:00,  8.64it/s]\n"
     ]
    },
    {
     "name": "stdout",
     "output_type": "stream",
     "text": [
      "warning: Embedding dir exists, did you set global_step for add_embedding()?\n",
      "=> <SOS>そう<UNK><UNK><UNK><UNK>ななよ<SOS>おはよう<UNK><UNK>ね<UNK>ななね<SOS>おはよう<UNK><UNK>ね<UNK>ななね<SOS>おはようよ\n",
      "val loss: 23.07040329054278\n",
      "----------------------------------------------------------------------------------------------------\n",
      "epoch 134\n"
     ]
    },
    {
     "name": "stderr",
     "output_type": "stream",
     "text": [
      "100%|███████████████████████████████████████████████████████████████████████| 3/3 [00:00<00:00,  3.32it/s]\n",
      "100%|███████████████████████████████████████████████████████████████████████| 1/1 [00:00<00:00,  8.09it/s]\n"
     ]
    },
    {
     "name": "stdout",
     "output_type": "stream",
     "text": [
      "warning: Embedding dir exists, did you set global_step for add_embedding()?\n",
      "=> <SOS>そう<UNK><UNK><UNK><UNK>ななよ<SOS><SOS>おはよう<UNK><UNK><UNK><UNK>ななよ<SOS><SOS>おはよう<UNK><UNK><UNK><UNK>ななよ<SOS>\n",
      "val loss: 25.82291758666841\n",
      "----------------------------------------------------------------------------------------------------\n",
      "epoch 135\n"
     ]
    },
    {
     "name": "stderr",
     "output_type": "stream",
     "text": [
      "100%|███████████████████████████████████████████████████████████████████████| 3/3 [00:01<00:00,  2.99it/s]\n",
      "100%|███████████████████████████████████████████████████████████████████████| 1/1 [00:00<00:00,  3.86it/s]\n"
     ]
    },
    {
     "name": "stdout",
     "output_type": "stream",
     "text": [
      "warning: Embedding dir exists, did you set global_step for add_embedding()?\n",
      "=> <SOS>おはよう<UNK><UNK>ね<UNK><UNK>ななよね<SOS>おはようよね<UNK><UNK>ななよ<SOS>おはようよね<UNK><UNK>ななよね\n",
      "val loss: 27.696360949867188\n",
      "----------------------------------------------------------------------------------------------------\n",
      "epoch 136\n"
     ]
    },
    {
     "name": "stderr",
     "output_type": "stream",
     "text": [
      "100%|███████████████████████████████████████████████████████████████████████| 3/3 [00:00<00:00,  3.21it/s]\n",
      "100%|███████████████████████████████████████████████████████████████████████| 1/1 [00:00<00:00,  8.38it/s]\n"
     ]
    },
    {
     "name": "stdout",
     "output_type": "stream",
     "text": [
      "warning: Embedding dir exists, did you set global_step for add_embedding()?\n",
      "=> <SOS>おはよう<UNK><UNK>ね<UNK><UNK>なよ<SOS>おはようよねねななよ<SOS>おはようよねね<UNK>なよ<SOS>おはようよねね\n",
      "val loss: 28.596179133247254\n",
      "----------------------------------------------------------------------------------------------------\n",
      "epoch 137\n"
     ]
    },
    {
     "name": "stderr",
     "output_type": "stream",
     "text": [
      "100%|███████████████████████████████████████████████████████████████████████| 3/3 [00:00<00:00,  3.28it/s]\n",
      "100%|███████████████████████████████████████████████████████████████████████| 1/1 [00:00<00:00,  8.02it/s]\n"
     ]
    },
    {
     "name": "stdout",
     "output_type": "stream",
     "text": [
      "warning: Embedding dir exists, did you set global_step for add_embedding()?\n",
      "=> <SOS>おはよう<UNK><UNK>ね<UNK><UNK>なよ<SOS>おはようよねねなな<SOS>おはようよねね<EOS>\n",
      "val loss: 29.53942138417447\n",
      "----------------------------------------------------------------------------------------------------\n",
      "epoch 138\n"
     ]
    },
    {
     "name": "stderr",
     "output_type": "stream",
     "text": [
      "100%|███████████████████████████████████████████████████████████████████████| 3/3 [00:00<00:00,  3.29it/s]\n",
      "100%|███████████████████████████████████████████████████████████████████████| 1/1 [00:00<00:00,  7.96it/s]\n"
     ]
    },
    {
     "name": "stdout",
     "output_type": "stream",
     "text": [
      "warning: Embedding dir exists, did you set global_step for add_embedding()?\n",
      "=> <SOS>おはよう<UNK><UNK>ね<UNK><UNK>なよ<SOS>おはよう<UNK>ね<UNK><UNK>なよ<SOS>おはよう<UNK>ね<UNK><UNK>なよ<SOS>おはよう<UNK>ね<UNK>\n",
      "val loss: 29.89243820456111\n",
      "----------------------------------------------------------------------------------------------------\n",
      "epoch 139\n"
     ]
    },
    {
     "name": "stderr",
     "output_type": "stream",
     "text": [
      "100%|███████████████████████████████████████████████████████████████████████| 3/3 [00:00<00:00,  3.20it/s]\n",
      "100%|███████████████████████████████████████████████████████████████████████| 1/1 [00:00<00:00,  7.59it/s]\n"
     ]
    },
    {
     "name": "stdout",
     "output_type": "stream",
     "text": [
      "warning: Embedding dir exists, did you set global_step for add_embedding()?\n",
      "=> <SOS>おはよう<UNK><UNK>ね<UNK><UNK>なよ<SOS>おはよう<UNK><UNK>ね<EOS>\n",
      "val loss: 30.965731771456007\n",
      "----------------------------------------------------------------------------------------------------\n",
      "epoch 140\n"
     ]
    },
    {
     "name": "stderr",
     "output_type": "stream",
     "text": [
      "100%|███████████████████████████████████████████████████████████████████████| 3/3 [00:00<00:00,  3.31it/s]\n",
      "100%|███████████████████████████████████████████████████████████████████████| 1/1 [00:00<00:00,  8.22it/s]\n"
     ]
    },
    {
     "name": "stdout",
     "output_type": "stream",
     "text": [
      "warning: Embedding dir exists, did you set global_step for add_embedding()?\n",
      "=> <SOS>おはよう<UNK><UNK>ね<UNK><UNK>なよ<SOS>おはようよね<UNK><UNK>なよ<SOS>おはようよね<UNK><UNK>なよ<SOS>おはようよね<UNK>\n",
      "val loss: 31.905094375591503\n",
      "----------------------------------------------------------------------------------------------------\n",
      "epoch 141\n"
     ]
    },
    {
     "name": "stderr",
     "output_type": "stream",
     "text": [
      "100%|███████████████████████████████████████████████████████████████████████| 3/3 [00:00<00:00,  3.25it/s]\n",
      "100%|███████████████████████████████████████████████████████████████████████| 1/1 [00:00<00:00,  7.90it/s]\n"
     ]
    },
    {
     "name": "stdout",
     "output_type": "stream",
     "text": [
      "warning: Embedding dir exists, did you set global_step for add_embedding()?\n",
      "=> <SOS>おはよう<UNK><UNK>ね<UNK><UNK>なよ<SOS>おはようよね<UNK><UNK>なよ<SOS>おはようよね<UNK><UNK>なよ<SOS>おはようよね<UNK>\n",
      "val loss: 33.77243152224944\n",
      "----------------------------------------------------------------------------------------------------\n",
      "epoch 142\n"
     ]
    },
    {
     "name": "stderr",
     "output_type": "stream",
     "text": [
      "100%|███████████████████████████████████████████████████████████████████████| 3/3 [00:00<00:00,  3.09it/s]\n",
      "100%|███████████████████████████████████████████████████████████████████████| 1/1 [00:00<00:00,  7.62it/s]\n"
     ]
    },
    {
     "name": "stdout",
     "output_type": "stream",
     "text": [
      "warning: Embedding dir exists, did you set global_step for add_embedding()?\n",
      "=> <SOS>おはよう<UNK><UNK>ね<UNK><UNK>なよ<SOS><SOS>おはよう<UNK><UNK>ね<UNK>なな<SOS><SOS>おはよう<UNK><UNK>ね<UNK>なな<SOS><SOS>おはよう\n",
      "val loss: 32.423140652836956\n",
      "----------------------------------------------------------------------------------------------------\n",
      "epoch 143\n"
     ]
    },
    {
     "name": "stderr",
     "output_type": "stream",
     "text": [
      "100%|███████████████████████████████████████████████████████████████████████| 3/3 [00:01<00:00,  3.03it/s]\n",
      "100%|███████████████████████████████████████████████████████████████████████| 1/1 [00:00<00:00,  5.88it/s]\n"
     ]
    },
    {
     "name": "stdout",
     "output_type": "stream",
     "text": [
      "warning: Embedding dir exists, did you set global_step for add_embedding()?\n",
      "=> <SOS>そう<UNK>ね<UNK><UNK>なな<SOS><SOS>おはよう<UNK><UNK>ね<UNK>なな<SOS><SOS>おはよう<UNK><UNK>ね<UNK>なな<SOS><SOS>おはよう<UNK>\n",
      "val loss: 34.81783160176824\n",
      "----------------------------------------------------------------------------------------------------\n",
      "epoch 144\n"
     ]
    },
    {
     "name": "stderr",
     "output_type": "stream",
     "text": [
      "100%|███████████████████████████████████████████████████████████████████████| 3/3 [00:00<00:00,  3.22it/s]\n",
      "100%|███████████████████████████████████████████████████████████████████████| 1/1 [00:00<00:00,  8.72it/s]\n"
     ]
    },
    {
     "name": "stdout",
     "output_type": "stream",
     "text": [
      "warning: Embedding dir exists, did you set global_step for add_embedding()?\n",
      "=> <SOS>そう<UNK>ね<UNK><UNK>なな<SOS><SOS>おはよう<UNK><UNK>ね<UNK>なな<SOS><SOS>おはよう<UNK><UNK>ね<UNK>なな<SOS><SOS>おはよう<UNK>\n",
      "val loss: 38.03902267198371\n",
      "----------------------------------------------------------------------------------------------------\n",
      "epoch 145\n"
     ]
    },
    {
     "name": "stderr",
     "output_type": "stream",
     "text": [
      "100%|███████████████████████████████████████████████████████████████████████| 3/3 [00:00<00:00,  3.15it/s]\n",
      "100%|███████████████████████████████████████████████████████████████████████| 1/1 [00:00<00:00,  7.86it/s]\n"
     ]
    },
    {
     "name": "stdout",
     "output_type": "stream",
     "text": [
      "warning: Embedding dir exists, did you set global_step for add_embedding()?\n",
      "=> <SOS>おはよう<UNK><UNK>ね<UNK><UNK>なよ<SOS>おはようよねね<EOS>\n",
      "val loss: 39.36548555954895\n",
      "----------------------------------------------------------------------------------------------------\n",
      "epoch 146\n"
     ]
    },
    {
     "name": "stderr",
     "output_type": "stream",
     "text": [
      "100%|███████████████████████████████████████████████████████████████████████| 3/3 [00:00<00:00,  3.03it/s]\n",
      "100%|███████████████████████████████████████████████████████████████████████| 1/1 [00:00<00:00,  8.57it/s]\n"
     ]
    },
    {
     "name": "stdout",
     "output_type": "stream",
     "text": [
      "warning: Embedding dir exists, did you set global_step for add_embedding()?\n",
      "=> <SOS>おはよう<UNK><UNK>ね<UNK><UNK>なよ<SOS><SOS>おはよう<UNK><UNK>ね<UNK>なな<SOS><SOS>おはよう<UNK><UNK>ね<UNK><EOS>\n",
      "val loss: 36.81030923549239\n",
      "----------------------------------------------------------------------------------------------------\n",
      "epoch 147\n"
     ]
    },
    {
     "name": "stderr",
     "output_type": "stream",
     "text": [
      "100%|███████████████████████████████████████████████████████████████████████| 3/3 [00:00<00:00,  3.16it/s]\n",
      "100%|███████████████████████████████████████████████████████████████████████| 1/1 [00:00<00:00,  7.83it/s]\n"
     ]
    },
    {
     "name": "stdout",
     "output_type": "stream",
     "text": [
      "warning: Embedding dir exists, did you set global_step for add_embedding()?\n",
      "=> <SOS>おはよう<UNK><UNK>ね<UNK><UNK>なよ<SOS><SOS>おはよう<UNK><UNK>ね<UNK>なな<SOS><SOS>おはよう<UNK><UNK>ね<UNK><UNK>な<SOS><SOS>おはよう\n",
      "val loss: 38.57343273221961\n",
      "----------------------------------------------------------------------------------------------------\n",
      "epoch 148\n"
     ]
    },
    {
     "name": "stderr",
     "output_type": "stream",
     "text": [
      "100%|███████████████████████████████████████████████████████████████████████| 3/3 [00:00<00:00,  3.28it/s]\n",
      "100%|███████████████████████████████████████████████████████████████████████| 1/1 [00:00<00:00,  8.15it/s]\n"
     ]
    },
    {
     "name": "stdout",
     "output_type": "stream",
     "text": [
      "warning: Embedding dir exists, did you set global_step for add_embedding()?\n",
      "=> <SOS>おはよう<UNK><UNK>ね<UNK><UNK>なよ<SOS><SOS>おはよう<UNK><UNK>ね<UNK>なな<SOS><SOS>おはよう<UNK><UNK>ね<UNK><UNK>なよ<SOS><SOS>\n",
      "val loss: 44.60453689196181\n",
      "----------------------------------------------------------------------------------------------------\n",
      "epoch 149\n"
     ]
    },
    {
     "name": "stderr",
     "output_type": "stream",
     "text": [
      "100%|███████████████████████████████████████████████████████████████████████| 3/3 [00:00<00:00,  3.21it/s]\n",
      "100%|███████████████████████████████████████████████████████████████████████| 1/1 [00:00<00:00,  7.61it/s]\n"
     ]
    },
    {
     "name": "stdout",
     "output_type": "stream",
     "text": [
      "warning: Embedding dir exists, did you set global_step for add_embedding()?\n",
      "=> <SOS>おはよう<UNK><UNK>ね<UNK><UNK>な<SOS><SOS>おはよう<UNK><UNK>ね<UNK>なな<SOS><SOS>おはよう<UNK><UNK>ね<UNK><UNK>な<SOS><SOS>おはよう<UNK>\n",
      "val loss: 41.41427657250509\n",
      "----------------------------------------------------------------------------------------------------\n",
      "epoch 150\n"
     ]
    },
    {
     "name": "stderr",
     "output_type": "stream",
     "text": [
      "100%|███████████████████████████████████████████████████████████████████████| 3/3 [00:00<00:00,  3.34it/s]\n",
      "100%|███████████████████████████████████████████████████████████████████████| 1/1 [00:00<00:00,  8.72it/s]\n"
     ]
    },
    {
     "name": "stdout",
     "output_type": "stream",
     "text": [
      "warning: Embedding dir exists, did you set global_step for add_embedding()?\n",
      "=> <SOS>おはよう<UNK><UNK>ね<UNK><UNK>なよねね<SOS><SOS>おはよう<UNK><UNK>ね<UNK><UNK>なよねね<SOS><SOS>おはよう<UNK><UNK>ね<UNK>\n",
      "val loss: 29.380476833279666\n",
      "----------------------------------------------------------------------------------------------------\n",
      "epoch 151\n"
     ]
    },
    {
     "name": "stderr",
     "output_type": "stream",
     "text": [
      "100%|███████████████████████████████████████████████████████████████████████| 3/3 [00:00<00:00,  3.30it/s]\n",
      "100%|███████████████████████████████████████████████████████████████████████| 1/1 [00:00<00:00,  8.72it/s]\n"
     ]
    },
    {
     "name": "stdout",
     "output_type": "stream",
     "text": [
      "warning: Embedding dir exists, did you set global_step for add_embedding()?\n",
      "=> <SOS>そう<UNK>ね<UNK><UNK>な<SOS><SOS>おはよう<UNK>ね<UNK><UNK>なな<SOS><SOS>おはよう<UNK><UNK>ね<UNK>なな<SOS><SOS>おはよう<UNK><UNK>\n",
      "val loss: 42.12719003222899\n",
      "----------------------------------------------------------------------------------------------------\n",
      "epoch 152\n"
     ]
    },
    {
     "name": "stderr",
     "output_type": "stream",
     "text": [
      "100%|███████████████████████████████████████████████████████████████████████| 3/3 [00:00<00:00,  3.35it/s]\n",
      "100%|███████████████████████████████████████████████████████████████████████| 1/1 [00:00<00:00,  8.09it/s]\n"
     ]
    },
    {
     "name": "stdout",
     "output_type": "stream",
     "text": [
      "warning: Embedding dir exists, did you set global_step for add_embedding()?\n",
      "=> <SOS>おはよう<UNK><UNK>ね<UNK><UNK>な<SOS><SOS>おはよう<UNK>ね<UNK><UNK>なな<SOS><SOS>おはよう<UNK><UNK>ね<UNK>なな<SOS><SOS>おはよう<UNK>\n",
      "val loss: 45.72258995355502\n",
      "----------------------------------------------------------------------------------------------------\n",
      "epoch 153\n"
     ]
    },
    {
     "name": "stderr",
     "output_type": "stream",
     "text": [
      "100%|███████████████████████████████████████████████████████████████████████| 3/3 [00:00<00:00,  3.07it/s]\n",
      "100%|███████████████████████████████████████████████████████████████████████| 1/1 [00:00<00:00,  7.30it/s]\n"
     ]
    },
    {
     "name": "stdout",
     "output_type": "stream",
     "text": [
      "warning: Embedding dir exists, did you set global_step for add_embedding()?\n",
      "=> <SOS>おはよう<UNK><UNK>ね<UNK><UNK>な<SOS><SOS>おはよう<UNK>ね<UNK><UNK>なな<SOS><SOS>おはよう<UNK><UNK>ね<UNK>なな<SOS><SOS>おはよう<UNK>\n",
      "val loss: 47.193387924195015\n",
      "----------------------------------------------------------------------------------------------------\n",
      "epoch 154\n"
     ]
    },
    {
     "name": "stderr",
     "output_type": "stream",
     "text": [
      "100%|███████████████████████████████████████████████████████████████████████| 3/3 [00:00<00:00,  3.13it/s]\n",
      "100%|███████████████████████████████████████████████████████████████████████| 1/1 [00:00<00:00,  6.64it/s]\n"
     ]
    },
    {
     "name": "stdout",
     "output_type": "stream",
     "text": [
      "warning: Embedding dir exists, did you set global_step for add_embedding()?\n",
      "=> <SOS>そう<UNK>ね<UNK><UNK>な<SOS><SOS>おはよう<UNK>ね<UNK><UNK>なな<SOS><SOS>おはよう<UNK>ね<UNK><UNK>なな<SOS><SOS>おはよう<UNK>ね\n",
      "val loss: 50.15554599134841\n",
      "----------------------------------------------------------------------------------------------------\n",
      "epoch 155\n"
     ]
    },
    {
     "name": "stderr",
     "output_type": "stream",
     "text": [
      "100%|███████████████████████████████████████████████████████████████████████| 3/3 [00:00<00:00,  3.17it/s]\n",
      "100%|███████████████████████████████████████████████████████████████████████| 1/1 [00:00<00:00,  8.32it/s]\n"
     ]
    },
    {
     "name": "stdout",
     "output_type": "stream",
     "text": [
      "warning: Embedding dir exists, did you set global_step for add_embedding()?\n",
      "=> <SOS>そう<UNK>ね<UNK><UNK>な<SOS><SOS>おはよう<UNK>ね<UNK><UNK>なな<SOS><SOS>おはよう<UNK>ね<UNK><UNK>なな<SOS><SOS>おはよう<UNK>ね\n",
      "val loss: 32.86730234080241\n",
      "----------------------------------------------------------------------------------------------------\n",
      "epoch 156\n"
     ]
    },
    {
     "name": "stderr",
     "output_type": "stream",
     "text": [
      "100%|███████████████████████████████████████████████████████████████████████| 3/3 [00:00<00:00,  3.23it/s]\n",
      "100%|███████████████████████████████████████████████████████████████████████| 1/1 [00:00<00:00,  7.89it/s]\n"
     ]
    },
    {
     "name": "stdout",
     "output_type": "stream",
     "text": [
      "warning: Embedding dir exists, did you set global_step for add_embedding()?\n",
      "=> <SOS>そう<UNK>ね<UNK><UNK>な<SOS><SOS>おはよう<UNK>ね<UNK><UNK>なな<SOS><SOS>おはよう<UNK>ね<UNK><UNK>なな<SOS><SOS>おはよう<UNK>ね\n",
      "val loss: 22.319802275689835\n",
      "----------------------------------------------------------------------------------------------------\n",
      "epoch 157\n"
     ]
    },
    {
     "name": "stderr",
     "output_type": "stream",
     "text": [
      "100%|███████████████████████████████████████████████████████████████████████| 3/3 [00:00<00:00,  3.16it/s]\n",
      "100%|███████████████████████████████████████████████████████████████████████| 1/1 [00:00<00:00,  7.92it/s]\n"
     ]
    },
    {
     "name": "stdout",
     "output_type": "stream",
     "text": [
      "warning: Embedding dir exists, did you set global_step for add_embedding()?\n",
      "=> <SOS>そう<UNK>ね<UNK><UNK>なな<SOS><SOS>おはよう<UNK>ね<UNK><UNK><UNK>な<SOS><SOS>おはよう<UNK>ね<UNK><UNK><UNK>な<SOS><SOS>おはよう<UNK>\n",
      "val loss: 44.71681588901641\n",
      "----------------------------------------------------------------------------------------------------\n",
      "epoch 158\n"
     ]
    },
    {
     "name": "stderr",
     "output_type": "stream",
     "text": [
      "100%|███████████████████████████████████████████████████████████████████████| 3/3 [00:00<00:00,  3.10it/s]\n",
      "100%|███████████████████████████████████████████████████████████████████████| 1/1 [00:00<00:00,  7.96it/s]\n"
     ]
    },
    {
     "name": "stdout",
     "output_type": "stream",
     "text": [
      "warning: Embedding dir exists, did you set global_step for add_embedding()?\n",
      "=> <SOS>そう<UNK>ね<UNK><UNK>なな<SOS><SOS>おはようん<UNK>ね<UNK><UNK>な<SOS><SOS>おはよう<UNK>ね<UNK><UNK><UNK>な<SOS><SOS>おはよう<UNK>\n",
      "val loss: 39.248408653659105\n",
      "----------------------------------------------------------------------------------------------------\n",
      "epoch 159\n"
     ]
    },
    {
     "name": "stderr",
     "output_type": "stream",
     "text": [
      "100%|███████████████████████████████████████████████████████████████████████| 3/3 [00:00<00:00,  3.21it/s]\n",
      "100%|███████████████████████████████████████████████████████████████████████| 1/1 [00:00<00:00,  6.54it/s]\n"
     ]
    },
    {
     "name": "stdout",
     "output_type": "stream",
     "text": [
      "warning: Embedding dir exists, did you set global_step for add_embedding()?\n",
      "=> <SOS>そう<UNK>ね<UNK><UNK>なな<SOS><SOS>おはようん<UNK>ね<UNK><UNK>なな<SOS><SOS>おはようん<UNK>ね<UNK><UNK>なな<SOS><SOS>\n",
      "val loss: 42.84340620894112\n",
      "----------------------------------------------------------------------------------------------------\n",
      "epoch 160\n"
     ]
    },
    {
     "name": "stderr",
     "output_type": "stream",
     "text": [
      "100%|███████████████████████████████████████████████████████████████████████| 3/3 [00:01<00:00,  2.85it/s]\n",
      "100%|███████████████████████████████████████████████████████████████████████| 1/1 [00:00<00:00,  7.01it/s]\n"
     ]
    },
    {
     "name": "stdout",
     "output_type": "stream",
     "text": [
      "warning: Embedding dir exists, did you set global_step for add_embedding()?\n",
      "=> <SOS>そう<UNK>ね<UNK><UNK>なな<SOS><SOS>おはようん<UNK>ね<UNK><UNK>なよ<SOS><SOS>おはよう<UNK>ね<UNK><UNK><UNK>な<SOS><SOS>おはよう\n",
      "val loss: 44.5052230116783\n",
      "----------------------------------------------------------------------------------------------------\n",
      "epoch 161\n"
     ]
    },
    {
     "name": "stderr",
     "output_type": "stream",
     "text": [
      "100%|███████████████████████████████████████████████████████████████████████| 3/3 [00:00<00:00,  3.09it/s]\n",
      "100%|███████████████████████████████████████████████████████████████████████| 1/1 [00:00<00:00,  7.45it/s]\n"
     ]
    },
    {
     "name": "stdout",
     "output_type": "stream",
     "text": [
      "warning: Embedding dir exists, did you set global_step for add_embedding()?\n",
      "=> <SOS>そう<UNK>ね<UNK><UNK>なな<SOS><SOS>おはようん<UNK>ね<UNK><UNK>なよねね<SOS><SOS>おはようん<UNK>ね<UNK><UNK>なよ\n",
      "val loss: 51.96507202423969\n",
      "----------------------------------------------------------------------------------------------------\n",
      "epoch 162\n"
     ]
    },
    {
     "name": "stderr",
     "output_type": "stream",
     "text": [
      "100%|███████████████████████████████████████████████████████████████████████| 3/3 [00:00<00:00,  3.20it/s]\n",
      "100%|███████████████████████████████████████████████████████████████████████| 1/1 [00:00<00:00,  7.71it/s]\n"
     ]
    },
    {
     "name": "stdout",
     "output_type": "stream",
     "text": [
      "warning: Embedding dir exists, did you set global_step for add_embedding()?\n",
      "=> <SOS>そう<UNK>ね<UNK><UNK>なな<SOS><SOS>おはようん<UNK>ね<UNK><UNK>なな<SOS><SOS>おはようん<UNK>ね<UNK><UNK>なな<SOS><SOS>\n",
      "val loss: 47.93084830406699\n",
      "----------------------------------------------------------------------------------------------------\n",
      "epoch 163\n"
     ]
    },
    {
     "name": "stderr",
     "output_type": "stream",
     "text": [
      "100%|███████████████████████████████████████████████████████████████████████| 3/3 [00:00<00:00,  3.12it/s]\n",
      "100%|███████████████████████████████████████████████████████████████████████| 1/1 [00:00<00:00,  7.77it/s]\n"
     ]
    },
    {
     "name": "stdout",
     "output_type": "stream",
     "text": [
      "warning: Embedding dir exists, did you set global_step for add_embedding()?\n",
      "=> <SOS>そう<UNK>ね<UNK><UNK>なな<SOS><SOS><SOS>そう<UNK>ね<UNK><UNK><UNK>な<SOS><SOS>おはようん<UNK>ね<UNK><UNK>な<SOS><SOS>おはよう\n",
      "val loss: 54.04811803834201\n",
      "----------------------------------------------------------------------------------------------------\n",
      "epoch 164\n"
     ]
    },
    {
     "name": "stderr",
     "output_type": "stream",
     "text": [
      "100%|███████████████████████████████████████████████████████████████████████| 3/3 [00:01<00:00,  2.88it/s]\n",
      "100%|███████████████████████████████████████████████████████████████████████| 1/1 [00:00<00:00,  6.19it/s]\n"
     ]
    },
    {
     "name": "stdout",
     "output_type": "stream",
     "text": [
      "warning: Embedding dir exists, did you set global_step for add_embedding()?\n",
      "=> <SOS>そう<UNK>ね<UNK><UNK>なな<SOS><SOS>おはようそう<UNK>ね<UNK><UNK>な<SOS><SOS>おはようん<UNK>ね<UNK><UNK>な<SOS><SOS>おはようん\n",
      "val loss: 34.5357867543072\n",
      "----------------------------------------------------------------------------------------------------\n",
      "epoch 165\n"
     ]
    },
    {
     "name": "stderr",
     "output_type": "stream",
     "text": [
      "100%|███████████████████████████████████████████████████████████████████████| 3/3 [00:01<00:00,  2.87it/s]\n",
      "100%|███████████████████████████████████████████████████████████████████████| 1/1 [00:00<00:00,  7.16it/s]\n"
     ]
    },
    {
     "name": "stdout",
     "output_type": "stream",
     "text": [
      "warning: Embedding dir exists, did you set global_step for add_embedding()?\n",
      "=> <SOS>おはよう<UNK>ね<UNK><UNK><UNK>なよね<SOS><SOS>おはようん<UNK>ね<UNK><UNK>なな<SOS><SOS>おはようん<UNK>ね<UNK><UNK>なよ\n",
      "val loss: 54.07874879205653\n",
      "----------------------------------------------------------------------------------------------------\n",
      "epoch 166\n"
     ]
    },
    {
     "name": "stderr",
     "output_type": "stream",
     "text": [
      "100%|███████████████████████████████████████████████████████████████████████| 3/3 [00:01<00:00,  2.93it/s]\n",
      "100%|███████████████████████████████████████████████████████████████████████| 1/1 [00:00<00:00,  7.21it/s]\n"
     ]
    },
    {
     "name": "stdout",
     "output_type": "stream",
     "text": [
      "warning: Embedding dir exists, did you set global_step for add_embedding()?\n",
      "=> <SOS>おはよう<UNK>ねね<UNK><UNK>な<SOS><SOS>おはようん<UNK>ね<UNK><UNK>な<SOS><SOS>おはようん<UNK>ね<UNK><UNK>な<SOS><SOS>おはようん\n",
      "val loss: 53.810459979914484\n",
      "----------------------------------------------------------------------------------------------------\n",
      "epoch 167\n"
     ]
    },
    {
     "name": "stderr",
     "output_type": "stream",
     "text": [
      "100%|███████████████████████████████████████████████████████████████████████| 3/3 [00:00<00:00,  3.04it/s]\n",
      "100%|███████████████████████████████████████████████████████████████████████| 1/1 [00:00<00:00,  6.71it/s]\n"
     ]
    },
    {
     "name": "stdout",
     "output_type": "stream",
     "text": [
      "warning: Embedding dir exists, did you set global_step for add_embedding()?\n",
      "=> <SOS>おはよう<UNK>ねね<UNK><UNK>な<SOS><SOS><SOS>そう<UNK>ね<UNK><UNK>なな<SOS><SOS><SOS>そう<UNK>ね<UNK><UNK><UNK>な<SOS><SOS>\n",
      "val loss: 48.73264587058672\n",
      "----------------------------------------------------------------------------------------------------\n",
      "epoch 168\n"
     ]
    },
    {
     "name": "stderr",
     "output_type": "stream",
     "text": [
      "100%|███████████████████████████████████████████████████████████████████████| 3/3 [00:00<00:00,  3.11it/s]\n",
      "100%|███████████████████████████████████████████████████████████████████████| 1/1 [00:00<00:00,  7.65it/s]\n"
     ]
    },
    {
     "name": "stdout",
     "output_type": "stream",
     "text": [
      "warning: Embedding dir exists, did you set global_step for add_embedding()?\n",
      "=> <SOS>そう<UNK>ね<UNK><UNK>なな<SOS><SOS><SOS>そう<UNK>ね<UNK><UNK><UNK>な<SOS><SOS><SOS>そう<UNK>ね<UNK><UNK>なな<SOS><SOS>\n",
      "val loss: 29.526478877019652\n",
      "----------------------------------------------------------------------------------------------------\n",
      "epoch 169\n"
     ]
    },
    {
     "name": "stderr",
     "output_type": "stream",
     "text": [
      "100%|███████████████████████████████████████████████████████████████████████| 3/3 [00:00<00:00,  3.05it/s]\n",
      "100%|███████████████████████████████████████████████████████████████████████| 1/1 [00:00<00:00,  7.77it/s]\n"
     ]
    },
    {
     "name": "stdout",
     "output_type": "stream",
     "text": [
      "warning: Embedding dir exists, did you set global_step for add_embedding()?\n",
      "=> <SOS>そう<UNK>ね<UNK><UNK>なな<SOS><SOS><SOS>そう<UNK>ね<UNK><UNK><UNK>な<SOS><SOS>おはようん<UNK>ね<UNK><UNK>なよねね\n",
      "val loss: 52.75504949185295\n",
      "----------------------------------------------------------------------------------------------------\n",
      "epoch 170\n"
     ]
    },
    {
     "name": "stderr",
     "output_type": "stream",
     "text": [
      "100%|███████████████████████████████████████████████████████████████████████| 3/3 [00:00<00:00,  3.09it/s]\n",
      "100%|███████████████████████████████████████████████████████████████████████| 1/1 [00:00<00:00,  7.11it/s]\n"
     ]
    },
    {
     "name": "stdout",
     "output_type": "stream",
     "text": [
      "warning: Embedding dir exists, did you set global_step for add_embedding()?\n",
      "=> <SOS>おはよう<UNK>ねね<UNK><UNK>な<SOS><SOS>おはようん<UNK>ね<UNK><UNK>な<SOS><SOS>おはようん<UNK>ね<UNK><UNK>な<SOS><SOS>おはようん\n",
      "val loss: 68.51136183124419\n",
      "----------------------------------------------------------------------------------------------------\n",
      "epoch 171\n"
     ]
    },
    {
     "name": "stderr",
     "output_type": "stream",
     "text": [
      "100%|███████████████████████████████████████████████████████████████████████| 3/3 [00:00<00:00,  3.02it/s]\n",
      "100%|███████████████████████████████████████████████████████████████████████| 1/1 [00:00<00:00,  7.57it/s]\n"
     ]
    },
    {
     "name": "stdout",
     "output_type": "stream",
     "text": [
      "warning: Embedding dir exists, did you set global_step for add_embedding()?\n",
      "=> <SOS>おはようん<UNK>ね<UNK><UNK>な<SOS><SOS>おはようん<UNK>ね<UNK><UNK>な<SOS><SOS>おはようん<UNK>ね<UNK><UNK>な<SOS><SOS>おはようん\n",
      "val loss: 63.04101857843366\n",
      "----------------------------------------------------------------------------------------------------\n",
      "epoch 172\n"
     ]
    },
    {
     "name": "stderr",
     "output_type": "stream",
     "text": [
      "100%|███████████████████████████████████████████████████████████████████████| 3/3 [00:00<00:00,  3.10it/s]\n",
      "100%|███████████████████████████████████████████████████████████████████████| 1/1 [00:00<00:00,  7.42it/s]\n"
     ]
    },
    {
     "name": "stdout",
     "output_type": "stream",
     "text": [
      "warning: Embedding dir exists, did you set global_step for add_embedding()?\n",
      "=> <SOS>おはようん<UNK>ね<UNK><UNK>な<SOS><SOS>おはようん<UNK>ね<UNK><UNK>な<SOS><SOS>おはようん<UNK>ね<UNK><UNK>な<SOS><SOS>おはようん\n",
      "val loss: 37.315082604918835\n",
      "----------------------------------------------------------------------------------------------------\n",
      "epoch 173\n"
     ]
    },
    {
     "name": "stderr",
     "output_type": "stream",
     "text": [
      "100%|███████████████████████████████████████████████████████████████████████| 3/3 [00:01<00:00,  2.98it/s]\n",
      "100%|███████████████████████████████████████████████████████████████████████| 1/1 [00:00<00:00,  7.65it/s]\n"
     ]
    },
    {
     "name": "stdout",
     "output_type": "stream",
     "text": [
      "warning: Embedding dir exists, did you set global_step for add_embedding()?\n",
      "=> <SOS>おはようん<UNK>ね<UNK><UNK>なね<SOS><SOS>おはようそう<UNK>ね<UNK><UNK>なよねね<SOS><SOS>おはようそう<UNK>ね<UNK><UNK>な\n",
      "val loss: 25.46295249197471\n",
      "----------------------------------------------------------------------------------------------------\n",
      "epoch 174\n"
     ]
    },
    {
     "name": "stderr",
     "output_type": "stream",
     "text": [
      "100%|███████████████████████████████████████████████████████████████████████| 3/3 [00:00<00:00,  3.21it/s]\n",
      "100%|███████████████████████████████████████████████████████████████████████| 1/1 [00:00<00:00,  7.83it/s]\n"
     ]
    },
    {
     "name": "stdout",
     "output_type": "stream",
     "text": [
      "warning: Embedding dir exists, did you set global_step for add_embedding()?\n",
      "=> <SOS>おはよう<UNK>ね<UNK><UNK><UNK>なね<SOS><SOS>おはようそう<UNK>ね<UNK><UNK>なね<SOS><SOS>おはようそう<UNK>ね<UNK><UNK>なね<SOS>\n",
      "val loss: 41.89086637834901\n",
      "----------------------------------------------------------------------------------------------------\n",
      "epoch 175\n"
     ]
    },
    {
     "name": "stderr",
     "output_type": "stream",
     "text": [
      "100%|███████████████████████████████████████████████████████████████████████| 3/3 [00:00<00:00,  3.21it/s]\n",
      "100%|███████████████████████████████████████████████████████████████████████| 1/1 [00:00<00:00,  7.99it/s]\n"
     ]
    },
    {
     "name": "stdout",
     "output_type": "stream",
     "text": [
      "warning: Embedding dir exists, did you set global_step for add_embedding()?\n",
      "=> <SOS>おはよう<UNK>ね<UNK><UNK><UNK>なね<SOS><SOS>おはようよねね<UNK><UNK>なね<SOS><SOS>おはようよねね<UNK><UNK>なね<SOS>\n",
      "val loss: 36.90024354806531\n",
      "----------------------------------------------------------------------------------------------------\n",
      "epoch 176\n"
     ]
    },
    {
     "name": "stderr",
     "output_type": "stream",
     "text": [
      "100%|███████████████████████████████████████████████████████████████████████| 3/3 [00:00<00:00,  3.22it/s]\n",
      "100%|███████████████████████████████████████████████████████████████████████| 1/1 [00:00<00:00,  7.86it/s]\n"
     ]
    },
    {
     "name": "stdout",
     "output_type": "stream",
     "text": [
      "warning: Embedding dir exists, did you set global_step for add_embedding()?\n",
      "=> <SOS>おはよう<UNK>ね<UNK><UNK><UNK>なね<SOS><SOS>おはよう<UNK>ね<UNK><UNK><UNK>なね<SOS><SOS>おはよう<UNK>ね<UNK><UNK><UNK>なね<SOS>\n",
      "val loss: 76.50707606338436\n",
      "----------------------------------------------------------------------------------------------------\n",
      "epoch 177\n"
     ]
    },
    {
     "name": "stderr",
     "output_type": "stream",
     "text": [
      "100%|███████████████████████████████████████████████████████████████████████| 3/3 [00:00<00:00,  3.16it/s]\n",
      "100%|███████████████████████████████████████████████████████████████████████| 1/1 [00:00<00:00,  7.36it/s]\n"
     ]
    },
    {
     "name": "stdout",
     "output_type": "stream",
     "text": [
      "warning: Embedding dir exists, did you set global_step for add_embedding()?\n",
      "=> <SOS>おはよう<UNK>ね<UNK><UNK><UNK>なね<SOS><SOS>おはよう<UNK>ね<UNK><UNK><UNK>なね<SOS><SOS>おはよう<UNK>ね<UNK><UNK><UNK>なね<SOS>\n",
      "val loss: 73.26909043581725\n",
      "----------------------------------------------------------------------------------------------------\n",
      "epoch 178\n"
     ]
    },
    {
     "name": "stderr",
     "output_type": "stream",
     "text": [
      "100%|███████████████████████████████████████████████████████████████████████| 3/3 [00:00<00:00,  3.22it/s]\n",
      "100%|███████████████████████████████████████████████████████████████████████| 1/1 [00:00<00:00,  7.59it/s]\n"
     ]
    },
    {
     "name": "stdout",
     "output_type": "stream",
     "text": [
      "warning: Embedding dir exists, did you set global_step for add_embedding()?\n",
      "=> <SOS>おはよう<UNK>ね<UNK><UNK><UNK>なね<SOS><SOS>おはようよねね<UNK><UNK>なね<SOS><SOS>おはようよねね<UNK><UNK>なね<SOS>\n",
      "val loss: 49.42440959915041\n",
      "----------------------------------------------------------------------------------------------------\n",
      "epoch 179\n"
     ]
    },
    {
     "name": "stderr",
     "output_type": "stream",
     "text": [
      "100%|███████████████████████████████████████████████████████████████████████| 3/3 [00:00<00:00,  3.25it/s]\n",
      "100%|███████████████████████████████████████████████████████████████████████| 1/1 [00:00<00:00,  7.71it/s]\n"
     ]
    },
    {
     "name": "stdout",
     "output_type": "stream",
     "text": [
      "warning: Embedding dir exists, did you set global_step for add_embedding()?\n",
      "=> <SOS>おはよう<UNK>ね<UNK><UNK><UNK>なね<SOS><SOS>おはようそう<UNK>ね<UNK><UNK>なね<SOS><SOS>おはようよねね<UNK><UNK>なね<SOS>\n",
      "val loss: 54.377982916800654\n",
      "----------------------------------------------------------------------------------------------------\n",
      "epoch 180\n"
     ]
    },
    {
     "name": "stderr",
     "output_type": "stream",
     "text": [
      "100%|███████████████████████████████████████████████████████████████████████| 3/3 [00:00<00:00,  3.16it/s]\n",
      "100%|███████████████████████████████████████████████████████████████████████| 1/1 [00:00<00:00,  7.45it/s]\n"
     ]
    },
    {
     "name": "stdout",
     "output_type": "stream",
     "text": [
      "warning: Embedding dir exists, did you set global_step for add_embedding()?\n",
      "=> <SOS>そう<UNK>ね<UNK><UNK>な<SOS><SOS>おはようん<UNK>ね<UNK><UNK>な<SOS><SOS>おはようん<UNK>ね<UNK><UNK>な<SOS><SOS>おはようん<UNK>\n",
      "val loss: 57.49093943200802\n",
      "----------------------------------------------------------------------------------------------------\n",
      "epoch 181\n"
     ]
    },
    {
     "name": "stderr",
     "output_type": "stream",
     "text": [
      "100%|███████████████████████████████████████████████████████████████████████| 3/3 [00:00<00:00,  3.07it/s]\n",
      "100%|███████████████████████████████████████████████████████████████████████| 1/1 [00:00<00:00,  7.21it/s]\n"
     ]
    },
    {
     "name": "stdout",
     "output_type": "stream",
     "text": [
      "warning: Embedding dir exists, did you set global_step for add_embedding()?\n",
      "=> <SOS>そう<UNK>ね<UNK><UNK>な<SOS><SOS>おはようん<UNK>ね<UNK><UNK>な<SOS><SOS>おはようん<UNK>ね<UNK><UNK>な<SOS><SOS>おはようん<UNK>\n",
      "val loss: 77.04382137569017\n",
      "----------------------------------------------------------------------------------------------------\n",
      "epoch 182\n"
     ]
    },
    {
     "name": "stderr",
     "output_type": "stream",
     "text": [
      "100%|███████████████████████████████████████████████████████████████████████| 3/3 [00:00<00:00,  3.28it/s]\n",
      "100%|███████████████████████████████████████████████████████████████████████| 1/1 [00:00<00:00,  6.76it/s]\n"
     ]
    },
    {
     "name": "stdout",
     "output_type": "stream",
     "text": [
      "warning: Embedding dir exists, did you set global_step for add_embedding()?\n",
      "=> <SOS>そう<UNK>ね<UNK><UNK>な<SOS><SOS>おはようそう<UNK>ね<UNK><UNK>な<SOS><SOS>おはようそう<UNK>ね<UNK><UNK>な<SOS><SOS>おはようそう<UNK>\n",
      "val loss: 70.08583201262839\n",
      "----------------------------------------------------------------------------------------------------\n",
      "epoch 183\n"
     ]
    },
    {
     "name": "stderr",
     "output_type": "stream",
     "text": [
      "100%|███████████████████████████████████████████████████████████████████████| 3/3 [00:00<00:00,  3.27it/s]\n",
      "100%|███████████████████████████████████████████████████████████████████████| 1/1 [00:00<00:00,  7.71it/s]\n"
     ]
    },
    {
     "name": "stdout",
     "output_type": "stream",
     "text": [
      "warning: Embedding dir exists, did you set global_step for add_embedding()?\n",
      "=> <SOS>そう<UNK>ね<UNK><UNK>な<SOS><SOS>おはようそう<UNK>ね<UNK><UNK>な<SOS><SOS>そう<UNK>ね<UNK><UNK>な<SOS><SOS>おはようそう<UNK>ね\n",
      "val loss: 95.39414930870454\n",
      "----------------------------------------------------------------------------------------------------\n",
      "epoch 184\n"
     ]
    },
    {
     "name": "stderr",
     "output_type": "stream",
     "text": [
      "100%|███████████████████████████████████████████████████████████████████████| 3/3 [00:00<00:00,  3.27it/s]\n",
      "100%|███████████████████████████████████████████████████████████████████████| 1/1 [00:00<00:00,  7.96it/s]\n"
     ]
    },
    {
     "name": "stdout",
     "output_type": "stream",
     "text": [
      "warning: Embedding dir exists, did you set global_step for add_embedding()?\n",
      "=> <SOS>そう<UNK>ね<UNK><UNK>なな<SOS><SOS>そう<UNK>ね<UNK><UNK><UNK>な<SOS><SOS>そう<UNK>ね<UNK><UNK><UNK>なね<SOS><SOS>そう\n",
      "val loss: 73.88519599429358\n",
      "----------------------------------------------------------------------------------------------------\n",
      "epoch 185\n"
     ]
    },
    {
     "name": "stderr",
     "output_type": "stream",
     "text": [
      "100%|███████████████████████████████████████████████████████████████████████| 3/3 [00:00<00:00,  3.24it/s]\n",
      "100%|███████████████████████████████████████████████████████████████████████| 1/1 [00:00<00:00,  7.71it/s]\n"
     ]
    },
    {
     "name": "stdout",
     "output_type": "stream",
     "text": [
      "warning: Embedding dir exists, did you set global_step for add_embedding()?\n",
      "=> <SOS>そう<UNK>ね<UNK><UNK><UNK>なね<SOS><SOS>そうそう<UNK>ね<UNK><UNK>なよねね<SOS><SOS>そうそう<UNK>ね<UNK><UNK><UNK>\n",
      "val loss: 82.08400221358386\n",
      "----------------------------------------------------------------------------------------------------\n",
      "epoch 186\n"
     ]
    },
    {
     "name": "stderr",
     "output_type": "stream",
     "text": [
      "100%|███████████████████████████████████████████████████████████████████████| 3/3 [00:00<00:00,  3.20it/s]\n",
      "100%|███████████████████████████████████████████████████████████████████████| 1/1 [00:00<00:00,  8.28it/s]\n"
     ]
    },
    {
     "name": "stdout",
     "output_type": "stream",
     "text": [
      "warning: Embedding dir exists, did you set global_step for add_embedding()?\n",
      "=> <SOS>そう<UNK>ね<UNK><UNK>な<SOS><SOS>そう<UNK>ね<UNK><UNK><UNK>なね<SOS><SOS>そう<UNK>ねね<UNK><UNK>な<SOS><SOS>そう<UNK>\n",
      "val loss: 121.03482153286569\n",
      "----------------------------------------------------------------------------------------------------\n",
      "epoch 187\n"
     ]
    },
    {
     "name": "stderr",
     "output_type": "stream",
     "text": [
      "100%|███████████████████████████████████████████████████████████████████████| 3/3 [00:00<00:00,  3.32it/s]\n",
      "100%|███████████████████████████████████████████████████████████████████████| 1/1 [00:00<00:00,  7.65it/s]\n"
     ]
    },
    {
     "name": "stdout",
     "output_type": "stream",
     "text": [
      "warning: Embedding dir exists, did you set global_step for add_embedding()?\n",
      "=> <SOS>そう<UNK>ね<UNK><UNK>な<SOS><SOS>そう<UNK>ね<UNK><UNK><UNK>なね<SOS><SOS>そう<UNK>ね<UNK><UNK><UNK>なね<SOS><SOS>そう\n",
      "val loss: 99.59891140112667\n",
      "----------------------------------------------------------------------------------------------------\n",
      "epoch 188\n"
     ]
    },
    {
     "name": "stderr",
     "output_type": "stream",
     "text": [
      "100%|███████████████████████████████████████████████████████████████████████| 3/3 [00:00<00:00,  3.16it/s]\n",
      "100%|███████████████████████████████████████████████████████████████████████| 1/1 [00:00<00:00,  8.50it/s]\n"
     ]
    },
    {
     "name": "stdout",
     "output_type": "stream",
     "text": [
      "warning: Embedding dir exists, did you set global_step for add_embedding()?\n",
      "=> <SOS>そう<UNK>ね<UNK><UNK>な<SOS><SOS>そう<UNK>ね<UNK><UNK><UNK><SOS><SOS>そう<UNK>ね<UNK><UNK>な<SOS><SOS>そう<UNK>ね<UNK><UNK>\n",
      "val loss: 106.37071541124561\n",
      "----------------------------------------------------------------------------------------------------\n",
      "epoch 189\n"
     ]
    },
    {
     "name": "stderr",
     "output_type": "stream",
     "text": [
      "100%|███████████████████████████████████████████████████████████████████████| 3/3 [00:00<00:00,  3.21it/s]\n",
      "100%|███████████████████████████████████████████████████████████████████████| 1/1 [00:00<00:00,  8.50it/s]\n"
     ]
    },
    {
     "name": "stdout",
     "output_type": "stream",
     "text": [
      "warning: Embedding dir exists, did you set global_step for add_embedding()?\n",
      "=> <SOS>そう<UNK>ね<UNK><UNK>な<SOS><SOS>おはようそうだね<UNK><UNK>なよね<SOS><SOS>そうそう<UNK>ね<UNK><UNK>なよね<SOS>\n",
      "val loss: 78.0154059580605\n",
      "----------------------------------------------------------------------------------------------------\n",
      "epoch 190\n"
     ]
    },
    {
     "name": "stderr",
     "output_type": "stream",
     "text": [
      "100%|███████████████████████████████████████████████████████████████████████| 3/3 [00:00<00:00,  3.32it/s]\n",
      "100%|███████████████████████████████████████████████████████████████████████| 1/1 [00:00<00:00,  8.32it/s]\n"
     ]
    },
    {
     "name": "stdout",
     "output_type": "stream",
     "text": [
      "warning: Embedding dir exists, did you set global_step for add_embedding()?\n",
      "=> <SOS>そう<UNK>ね<UNK><UNK>な<SOS><SOS>おはようそうだね<UNK><UNK>な<SOS><SOS>おはようそうだね<UNK><UNK>な<SOS><SOS>おはようそうだ\n",
      "val loss: 162.11863245035804\n",
      "----------------------------------------------------------------------------------------------------\n",
      "epoch 191\n"
     ]
    },
    {
     "name": "stderr",
     "output_type": "stream",
     "text": [
      "100%|███████████████████████████████████████████████████████████████████████| 3/3 [00:00<00:00,  3.25it/s]\n",
      "100%|███████████████████████████████████████████████████████████████████████| 1/1 [00:00<00:00,  8.22it/s]\n"
     ]
    },
    {
     "name": "stdout",
     "output_type": "stream",
     "text": [
      "warning: Embedding dir exists, did you set global_step for add_embedding()?\n",
      "=> <SOS>そう<UNK>ね<UNK><UNK>な<SOS><SOS>おはようそうだね<UNK><UNK>なね<SOS><SOS>おはようそうだね<UNK><UNK>な<SOS><SOS>おはようそう\n",
      "val loss: 162.55640273730103\n",
      "----------------------------------------------------------------------------------------------------\n",
      "epoch 192\n"
     ]
    },
    {
     "name": "stderr",
     "output_type": "stream",
     "text": [
      "100%|███████████████████████████████████████████████████████████████████████| 3/3 [00:00<00:00,  3.23it/s]\n",
      "100%|███████████████████████████████████████████████████████████████████████| 1/1 [00:00<00:00,  8.22it/s]\n"
     ]
    },
    {
     "name": "stdout",
     "output_type": "stream",
     "text": [
      "warning: Embedding dir exists, did you set global_step for add_embedding()?\n",
      "=> <SOS>そう<UNK>ね<UNK><UNK>な<SOS><SOS>おはようそうだね<UNK><UNK>なよねね<SOS><SOS>おはようそうだね<UNK><UNK><UNK>なね\n",
      "val loss: 211.94698716905728\n",
      "----------------------------------------------------------------------------------------------------\n",
      "epoch 193\n"
     ]
    },
    {
     "name": "stderr",
     "output_type": "stream",
     "text": [
      "100%|███████████████████████████████████████████████████████████████████████| 3/3 [00:00<00:00,  3.22it/s]\n",
      "100%|███████████████████████████████████████████████████████████████████████| 1/1 [00:00<00:00,  8.42it/s]\n"
     ]
    },
    {
     "name": "stdout",
     "output_type": "stream",
     "text": [
      "warning: Embedding dir exists, did you set global_step for add_embedding()?\n",
      "=> <SOS>そう<UNK>ね<UNK><UNK>な<SOS><SOS>おはようそうだね<UNK><UNK>なよねね<SOS><SOS>おはようそう<UNK>ね<UNK><UNK><UNK>な<SOS>\n",
      "val loss: 237.59934702256757\n",
      "----------------------------------------------------------------------------------------------------\n",
      "epoch 194\n"
     ]
    },
    {
     "name": "stderr",
     "output_type": "stream",
     "text": [
      "100%|███████████████████████████████████████████████████████████████████████| 3/3 [00:00<00:00,  3.22it/s]\n",
      "100%|███████████████████████████████████████████████████████████████████████| 1/1 [00:00<00:00,  8.35it/s]\n"
     ]
    },
    {
     "name": "stdout",
     "output_type": "stream",
     "text": [
      "warning: Embedding dir exists, did you set global_step for add_embedding()?\n",
      "=> <SOS>おはようん<UNK>ね<UNK><UNK>な<SOS><SOS>おはようそうだね<UNK><UNK>なよねね<SOS><SOS>おはようそう<UNK>ね<UNK><UNK><UNK>な\n",
      "val loss: 326.5003982084708\n",
      "----------------------------------------------------------------------------------------------------\n",
      "epoch 195\n"
     ]
    },
    {
     "name": "stderr",
     "output_type": "stream",
     "text": [
      "100%|███████████████████████████████████████████████████████████████████████| 3/3 [00:00<00:00,  3.28it/s]\n",
      "100%|███████████████████████████████████████████████████████████████████████| 1/1 [00:00<00:00,  8.46it/s]\n"
     ]
    },
    {
     "name": "stdout",
     "output_type": "stream",
     "text": [
      "warning: Embedding dir exists, did you set global_step for add_embedding()?\n",
      "=> <SOS>おはようん<UNK>ね<UNK><UNK>なよねね<SOS><SOS>おはようそう<UNK>ね<UNK><UNK><UNK>な<SOS><SOS>おはようそうだね<UNK><UNK>な\n",
      "val loss: 241.12973988812504\n",
      "----------------------------------------------------------------------------------------------------\n",
      "epoch 196\n"
     ]
    },
    {
     "name": "stderr",
     "output_type": "stream",
     "text": [
      "100%|███████████████████████████████████████████████████████████████████████| 3/3 [00:00<00:00,  3.16it/s]\n",
      "100%|███████████████████████████████████████████████████████████████████████| 1/1 [00:00<00:00,  8.39it/s]\n"
     ]
    },
    {
     "name": "stdout",
     "output_type": "stream",
     "text": [
      "warning: Embedding dir exists, did you set global_step for add_embedding()?\n",
      "=> <SOS>おはようん<UNK>ね<UNK><UNK>なよね<SOS><SOS>おはようそうだね<UNK><UNK><UNK>なね<SOS><SOS>おはようそうだね<UNK><UNK><UNK>\n",
      "val loss: 269.15291481673347\n",
      "----------------------------------------------------------------------------------------------------\n",
      "epoch 197\n"
     ]
    },
    {
     "name": "stderr",
     "output_type": "stream",
     "text": [
      "100%|███████████████████████████████████████████████████████████████████████| 3/3 [00:00<00:00,  3.37it/s]\n",
      "100%|███████████████████████████████████████████████████████████████████████| 1/1 [00:00<00:00,  8.22it/s]\n"
     ]
    },
    {
     "name": "stdout",
     "output_type": "stream",
     "text": [
      "warning: Embedding dir exists, did you set global_step for add_embedding()?\n",
      "=> <SOS>おはようん<UNK>ね<UNK><UNK>なね<SOS><SOS>おはようそうだね<UNK><UNK><UNK>なね<SOS><SOS>おはようそうだね<UNK><UNK><UNK>な\n",
      "val loss: 504.11497965406346\n",
      "----------------------------------------------------------------------------------------------------\n",
      "epoch 198\n"
     ]
    },
    {
     "name": "stderr",
     "output_type": "stream",
     "text": [
      "100%|███████████████████████████████████████████████████████████████████████| 3/3 [00:00<00:00,  3.25it/s]\n",
      "100%|███████████████████████████████████████████████████████████████████████| 1/1 [00:00<00:00,  7.97it/s]\n"
     ]
    },
    {
     "name": "stdout",
     "output_type": "stream",
     "text": [
      "warning: Embedding dir exists, did you set global_step for add_embedding()?\n",
      "=> <SOS>そう<UNK>ね<UNK><UNK>な<SOS><SOS>おはようそうだね<UNK><UNK>なよね<SOS><SOS>おはようそうだね<UNK><UNK><UNK>なね<SOS>\n",
      "val loss: 201.71631114842154\n",
      "----------------------------------------------------------------------------------------------------\n",
      "epoch 199\n"
     ]
    },
    {
     "name": "stderr",
     "output_type": "stream",
     "text": [
      "100%|███████████████████████████████████████████████████████████████████████| 3/3 [00:00<00:00,  3.23it/s]\n",
      "100%|███████████████████████████████████████████████████████████████████████| 1/1 [00:00<00:00,  7.59it/s]\n"
     ]
    },
    {
     "name": "stdout",
     "output_type": "stream",
     "text": [
      "warning: Embedding dir exists, did you set global_step for add_embedding()?\n",
      "=> <SOS>そう<UNK>ね<UNK><UNK>な<SOS><SOS>おはようそうだね<UNK><UNK><UNK>なね<SOS><SOS>おはようそうだね<UNK><UNK><UNK>な<SOS><SOS>\n",
      "val loss: 355.86660195774635\n",
      "----------------------------------------------------------------------------------------------------\n",
      "\n",
      "=><SOS>そう<UNK>ね<UNK><UNK><UNK>な<SOS><SOS>おはようそう<UNK>ね<UNK><UNK><UNK>な<SOS><SOS>おはようそう<UNK>ね<UNK><UNK><UNK>な<SOS><SOS>\n",
      "\n",
      "\n",
      "=><SOS>今日は良い天気ね<EOS>\n",
      "\n",
      "\n",
      "=><SOS>Quit<UNK>ねね<UNK><UNK>な<SOS><SOS>QuitQuit行くね<UNK><UNK><UNK>な<SOS><SOS>QuitQuit行くね<UNK><UNK><UNK>な<SOS><SOS>\n",
      "\n"
     ]
    }
   ],
   "source": [
    "writer = SummaryWriter(\"./sample_logs/%s_%s\" % (args.model_name, str(int(time.time()))))\n",
    "train.main(\n",
    "    args.model_name,\n",
    "    data_list,\n",
    "    args.use_cuda,\n",
    "    args.batch_size,\n",
    "    schedule,\n",
    "    args.keep_prob,\n",
    "    args.val_size,\n",
    "    args.lr,\n",
    "    args.vocab_limit,\n",
    "    args.hidden_size,\n",
    "    args.embedding_size,\n",
    "    args.max_length,\n",
    "    writer,\n",
    ")"
   ]
  }
 ],
 "metadata": {
  "kernelspec": {
   "display_name": ".venv",
   "language": "python",
   "name": ".venv"
  },
  "language_info": {
   "codemirror_mode": {
    "name": "ipython",
    "version": 3
   },
   "file_extension": ".py",
   "mimetype": "text/x-python",
   "name": "python",
   "nbconvert_exporter": "python",
   "pygments_lexer": "ipython3",
   "version": "3.6.5"
  }
 },
 "nbformat": 4,
 "nbformat_minor": 2
}
